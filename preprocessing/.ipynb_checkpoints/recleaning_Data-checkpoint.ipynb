{
 "cells": [
  {
   "cell_type": "markdown",
   "metadata": {},
   "source": [
    "# 数据再清洗\n",
    "\n",
    "@PM\n",
    "\n",
    "在完成了demo的跑通后，我们正在寻求提高准确率的方式，但是回顾到数据中发现了大量问题，我们对问题进行了分类整理，并讨论对策。\n",
    "\n",
    "### Previously：当前数据分析\n",
    "\n",
    "所有的数据被集中到texts.db文件中，sqlite3数据库保存，本次分析中我们加入测算了文本平均长度：\n",
    "\n",
    "```Python\n",
    "import sqlite3\n",
    "conn = sqlite3.connect(\"../data/database/texts.db\")\n",
    "c = conn.cursor()\n",
    "cursor = c.execute(\"SELECT * from {表名}\")\n",
    "length_text = 0\n",
    "num_row = 0\n",
    "for row in cursor:\n",
    "    length_text += len(row[1])\n",
    "    num_row += 1\n",
    "print(length_text/num_row)\n",
    "```\n",
    "\n",
    "| 表名 | id范围 | 字段名 | 平均内容长度 | 备注 |\n",
    "| :----: | :----------------: | :----------------: | :----------------: | :--------: |\n",
    "| classical | (10000002, 10435045) | (id,texts,type,sourceid) | 80.572 | 文言文 |\n",
    "| journal | (20000001, 20289729) | (id,texts,type,sourceid) | 184.09 | 期刊论文 |\n",
    "| news | (30000001, 30212493) | (id,texts,type,sourceid) | 493.885 | 新闻 |\n",
    "| poet | (40000001, 40308879) | (id,texts,type,sourceid) | 64.91 | 唐诗、宋诗 |\n",
    "| ci | (50000001, 50021050) | (id,texts,type,sourceid) | 93.74 | 词 |\n",
    "\n",
    "#### 文言文\n",
    "\n",
    "1. 读取原文件时，按一行一记录的方式读取，清洗掉了空行和过短的行。\n",
    "\n",
    "2. 每行并不是严格意义上的语篇，基本一条记录不能构成完整语篇，可能需要和上下记录联系，但是每条记录基本是完整的句子。\n",
    "\n",
    "3. 文本较为混乱，混入了文言注解、诗篇（可能导致与诗词的混淆）。\n",
    "\n",
    "4. 存在繁体。\n",
    "\n",
    "5. 存在纯英文。\n",
    "\n",
    "\n",
    "#### 期刊论文\n",
    "\n",
    "1. 读取原文件时按行读取，但是这部分文本一行基本上是一段，实际上一个语篇较长。\n",
    "\n",
    "#### 新闻文本\n",
    "\n",
    "1. 读取原文件时按行读取，一行基本上是一个语篇。\n",
    "\n",
    "2. 存在一些爬取失败的提示/页眉页脚单独出现，这种提示是重复出现的，例如：\n",
    "\n",
    "> * 遵守中华人民共和国有关法律、法规，尊重网上道德，承担一切因您的行为而直接或间接引起的法律责任。Ｈ嗣裢河南频道拥有管理笔名和留言的一切权力。Ｄ在人民网河南频道留言板发表的言论，人民网河南频道有权在网站内转载或引用。Ｈ缒对管理有意见请向留言板管理员或人民网河南频道反映。\n",
    ">\n",
    "> * 中国雅虎侠客平台仅提供信息存储空间服务，其内容均由上网用户提供。中国雅虎提示您尊重权利人之权利。根据相关法律规定，部分内容可能应权利人通知未予显示，请点这里查看。\n",
    "\n",
    "3. 图片标题、表标题等单独出现在一条记录中\n",
    "\n",
    "> * 图为表演的演员在换衣服。\n",
    "\n",
    "#### 诗文本\n",
    "\n",
    "1. 以整理好的json文件读入，一条记录就是一个语篇。\n",
    "\n",
    "2. 数据源含有报错信息，根据这些信息清洗了一些问题数据，如方块字、内容过短等。\n",
    "\n",
    "3. 剩余数据中仍然存在一些单句诗，这是因为清洗时对于过滤文本长度没有设定合理的阈值。\n",
    "\n",
    "\n",
    "#### 词文本\n",
    "\n",
    "1. 以整理好的json文件读入，一条记录就是一个语篇。\n",
    "\n",
    "2. 由于数据源不带报错信息，因此对于数据完全没有清洗，存在一些错误。\n",
    "\n",
    "3. 存在繁体。\n",
    "\n",
    "4. 存在方块字。\n",
    "\n",
    "> 使节行秋，算天也、知公风力。 长啸罢、烟云尽卷，□□□□。 重九汉峰黄泛酒，五更泰岳□观日。 问扬公、去後有谁□，□朝集。 大华□，□□□。 今古□，□陈迹。 甚牛山□□，□□□□。 □□□嫌□薄，高怀□□□□□。 □□□、黄鹤□□□，□相识。  >>  词牌介绍\n",
    "\n",
    "5. 大量的文本尾部有相同的冗余：`  >>  词牌介绍 `\n",
    "\n",
    "> 帘卷曲栏独倚。 江展暮天无际。 泪眼不曾晴，家在吴头楚尾。 数点雪花乱委。 扑漉沙鸥惊起。 诗句欲成时，没入苍烟丛里。  >>  词牌介绍\n",
    "\n",
    "6. 存在较短文本。"
   ]
  },
  {
   "cell_type": "markdown",
   "metadata": {},
   "source": [
    "## 数据清洗过程·Ⅱ\n",
    "\n",
    "### 1. 删除较短文本\n",
    "\n",
    "根据之前对各类文本长度的把握为各类文本指定阈值删除不合理的记录，虽然这样有可能会删除掉一些有效文本，但考虑到数据集数据量较大，删除这些文本的影响不大。\n",
    "```SQL\n",
    "DELETE FROM classical\n",
    "WHERE LENGTH(texts) <= 20\n",
    "```\n",
    "\n",
    "\n",
    "```SQL\n",
    "DELETE FROM journal\n",
    "WHERE LENGTH(texts) <= 24\n",
    "```\n",
    "\n",
    "```SQL\n",
    "DELETE FROM news\n",
    "WHERE LENGTH(texts) <= 40\n",
    "```\n",
    "\n",
    "```SQL\n",
    "DELETE FROM poet\n",
    "WHERE LENGTH(texts) <= 21\n",
    "```\n",
    "\n",
    "```SQL\n",
    "DELETE FROM ci\n",
    "WHERE LENGTH(texts) <= 9\n",
    "```"
   ]
  },
  {
   "cell_type": "code",
   "execution_count": 1,
   "metadata": {},
   "outputs": [
    {
     "name": "stdout",
     "output_type": "stream",
     "text": [
      "success\n"
     ]
    }
   ],
   "source": [
    "import sqlite3\n",
    "conn = sqlite3.connect(\"../data/database/texts.db\")\n",
    "c = conn.cursor()\n",
    "cursor = c.execute(\"DELETE FROM classical WHERE LENGTH(texts) <= 20\")\n",
    "cursor = c.execute(\"DELETE FROM journal WHERE LENGTH(texts) <= 24\")\n",
    "cursor = c.execute(\"DELETE FROM news WHERE LENGTH(texts) <= 40\")\n",
    "cursor = c.execute(\"DELETE FROM poet WHERE LENGTH(texts) <= 21\")\n",
    "cursor = c.execute(\"DELETE FROM ci WHERE LENGTH(texts) <= 9\")\n",
    "conn.commit()\n",
    "conn.close()\n",
    "print(\"success\")"
   ]
  },
  {
   "cell_type": "markdown",
   "metadata": {},
   "source": [
    "### 2. 删除大规模出现异常字符的记录\n",
    "\n",
    "#### (1) **词**中出现的`>>  词牌介绍`\n",
    "\n",
    "对策：含有`>>  词牌介绍`的记录替换删除"
   ]
  },
  {
   "cell_type": "code",
   "execution_count": 4,
   "metadata": {
    "scrolled": true
   },
   "outputs": [
    {
     "name": "stdout",
     "output_type": "stream",
     "text": [
      "13444\n",
      "['雨恨云愁，江南依旧称佳丽。 水村渔市。 一缕孤烟细。 天际征鸿，遥认行如缀。 平生事。 此时凝睇。 谁会凭阑意。  ', '50000004']\n"
     ]
    }
   ],
   "source": [
    "conn = sqlite3.connect(\"../data/database/texts.db\")\n",
    "c = conn.cursor()\n",
    "cursor = c.execute(\"SELECT * FROM ci\")\n",
    "fkz_data = []\n",
    "for row in cursor:\n",
    "    if '>>  词牌介绍' in str(row[1]):\n",
    "        fkz_data.append([row[1].split('>>  词牌介绍')[0],row[0]])\n",
    "print(len(fkz_data))\n",
    "print(fkz_data[0])\n",
    "c.executemany('UPDATE ci SET texts = (?) WHERE id = (?)',fkz_data).rowcount\n",
    "conn.commit()\n",
    "conn.close()"
   ]
  },
  {
   "cell_type": "markdown",
   "metadata": {},
   "source": [
    "### (2) **词**中出现`□`\n",
    "\n",
    "对策：含有`□`的记录直接删除。\n",
    "--850 rows affected"
   ]
  },
  {
   "cell_type": "code",
   "execution_count": 13,
   "metadata": {},
   "outputs": [
    {
     "name": "stdout",
     "output_type": "stream",
     "text": [
      "0\n"
     ]
    }
   ],
   "source": [
    "conn = sqlite3.connect(\"../data/database/texts.db\")\n",
    "c = conn.cursor()\n",
    "cursor = c.execute(\"SELECT * FROM ci\")\n",
    "fkz_data = []\n",
    "for row in cursor:\n",
    "    if '□' in str(row[1]):\n",
    "        fkz_data.append(row[0])\n",
    "print(len(fkz_data))\n",
    "for i in fkz_data:\n",
    "    c.execute('DELETE FROM ci WHERE id = {} '.format(i))\n",
    "conn.commit()\n",
    "conn.close()"
   ]
  },
  {
   "cell_type": "markdown",
   "metadata": {},
   "source": [
    "### (3) **文言文**中出现纯英文、注解\n",
    "\n",
    "对策:直接删除."
   ]
  },
  {
   "cell_type": "code",
   "execution_count": 31,
   "metadata": {},
   "outputs": [
    {
     "name": "stdout",
     "output_type": "stream",
     "text": [
      "3421\n"
     ]
    }
   ],
   "source": [
    "import re\n",
    "\n",
    "reg = re.compile(r'[A-Za-z]|[(（][0-9]+[)）]|[①②③④⑤⑥⑦⑧⑨⑩]')\n",
    "conn = sqlite3.connect(\"../data/database/texts.db\")\n",
    "c = conn.cursor()\n",
    "cursor = c.execute(\"SELECT * FROM classical\")\n",
    "fkz_data = []\n",
    "for row in cursor:\n",
    "    if re.match(reg,row[1]):\n",
    "        fkz_data.append(row[0])\n",
    "print(len(fkz_data))\n",
    "for i in fkz_data:\n",
    "    # print('DELETE FROM classical WHERE id = {}'.format(i))\n",
    "    c.execute('DELETE FROM classical WHERE id = {}'.format(i))\n",
    "conn.commit()\n",
    "conn.close()"
   ]
  },
  {
   "cell_type": "markdown",
   "metadata": {},
   "source": [
    "### (4) **新闻**中出现重复的页脚/提示信息\n",
    "\n",
    "对策:删除"
   ]
  },
  {
   "cell_type": "code",
   "execution_count": 41,
   "metadata": {},
   "outputs": [],
   "source": [
    "conn = sqlite3.connect(\"../data/database/texts.db\")\n",
    "c = conn.cursor()\n",
    "cursor = c.execute(\"DELETE FROM news where id in (SELECT id from news GROUP BY texts HAVING COUNT(texts) > 1 ) and id not in (SELECT min(id) from news GROUP BY texts HAVING COUNT(texts) > 1 )\")\n",
    "# cursor = c.execute(\"SELECT texts from news GROUP BY texts HAVING COUNT(texts) > 1 \")\n",
    "conn.commit()\n",
    "conn.close()"
   ]
  },
  {
   "cell_type": "markdown",
   "metadata": {},
   "source": [
    "### (5)繁体\n",
    "\n",
    "读入时对文本统一简转繁，此处不处理。"
   ]
  },
  {
   "cell_type": "code",
   "execution_count": null,
   "metadata": {},
   "outputs": [],
   "source": []
  }
 ],
 "metadata": {
  "kernelspec": {
   "display_name": "Python 3",
   "language": "python",
   "name": "python3"
  },
  "language_info": {
   "codemirror_mode": {
    "name": "ipython",
    "version": 3
   },
   "file_extension": ".py",
   "mimetype": "text/x-python",
   "name": "python",
   "nbconvert_exporter": "python",
   "pygments_lexer": "ipython3",
   "version": "3.6.8"
  }
 },
 "nbformat": 4,
 "nbformat_minor": 4
}
