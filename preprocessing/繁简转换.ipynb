{
 "cells": [
  {
   "cell_type": "code",
   "execution_count": 1,
   "metadata": {},
   "outputs": [],
   "source": [
    "import os"
   ]
  },
  {
   "cell_type": "code",
   "execution_count": 10,
   "metadata": {},
   "outputs": [],
   "source": [
    "os.chdir(\"C:\\\\opencc-1.0.4-win32\\\\opencc-1.0.4\\\\bin\")"
   ]
  },
  {
   "cell_type": "code",
   "execution_count": 11,
   "metadata": {},
   "outputs": [
    {
     "name": "stdout",
     "output_type": "stream",
     "text": [
      "当前工作目录为 C:\\opencc-1.0.4-win32\\opencc-1.0.4\\bin\n"
     ]
    }
   ],
   "source": [
    "retval = os.getcwd()\n",
    "print (\"当前工作目录为 %s\" % retval)"
   ]
  },
  {
   "cell_type": "code",
   "execution_count": 18,
   "metadata": {},
   "outputs": [
    {
     "data": {
      "text/plain": [
       "0"
      ]
     },
     "execution_count": 18,
     "metadata": {},
     "output_type": "execute_result"
    }
   ],
   "source": [
    "os.system(\"opencc -i C:\\\\Users\\\\洋子\\\\Documents\\\\作业\\\\大三上\\\\文本理解与数据挖掘\\\\第一次作业\\\\chinese-poetry-master\\\\json\\\\poet.tang.0.json -o poet.tang.0.json -c C:\\\\opencc-1.0.4-win32\\\\opencc-1.0.4\\\\share\\\\opencc\\\\t2s.json\")"
   ]
  },
  {
   "cell_type": "code",
   "execution_count": 19,
   "metadata": {},
   "outputs": [],
   "source": [
    "for i in range(1,58):\n",
    "    cmd=\"opencc -i C:\\\\Users\\\\洋子\\\\Documents\\\\作业\\\\大三上\\\\文本理解与数据挖掘\\\\第一次作业\\\\chinese-poetry-master\\\\json\\\\poet.tang.\"+str(i)+\"000.json -o poet.tang.\"+str(i)+\"000.json -c C:\\\\opencc-1.0.4-win32\\\\opencc-1.0.4\\\\share\\\\opencc\\\\t2s.json\"\n",
    "    os.system(cmd)"
   ]
  },
  {
   "cell_type": "code",
   "execution_count": null,
   "metadata": {},
   "outputs": [],
   "source": []
  }
 ],
 "metadata": {
  "kernelspec": {
   "display_name": "Python 3",
   "language": "python",
   "name": "python3"
  },
  "language_info": {
   "codemirror_mode": {
    "name": "ipython",
    "version": 3
   },
   "file_extension": ".py",
   "mimetype": "text/x-python",
   "name": "python",
   "nbconvert_exporter": "python",
   "pygments_lexer": "ipython3",
   "version": "3.7.3"
  }
 },
 "nbformat": 4,
 "nbformat_minor": 2
}
