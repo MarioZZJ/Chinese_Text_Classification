{
 "cells": [
  {
   "cell_type": "markdown",
   "metadata": {},
   "source": [
    "# 插入文本（文言文、期刊论文、新闻）到数据库\n",
    "\n",
    "## 前言\n",
    "\n",
    "这三类文本文件源比较特殊，每一个文本只提供了一个.txt文件，但是大小非常大：\n",
    "\n",
    "| 文件名 | 大小 |\n",
    "| :------: | :------: |\n",
    "| 期刊论文文本.txt | 140.57 MB |\n",
    "| 文言文数据.txt | 100.00 MB |\n",
    "| data.txt | 299.00 MB |\n",
    "\n",
    "在Windows下使用记事本打开单个这样的文件耗费非常大，因此团队决定将其拆分为多个小文件，以便人工阅读分析归律。\n",
    "\n",
    "*拆分方法：[spliter.py](./spliter.py)*\n",
    "\n",
    "拆分后的每个文件都小于3M，行数限制在1800行以内.分别存储在以下目录：\n",
    "\n",
    "| 目录名 | 文件名格式 | 文件数量 |\n",
    "| :------: | :------: | :---: |\n",
    "| ..data/classical/ | c_list_x.txt | 273 |\n",
    "| ..data/journal/ | j_list_x.txt | 161 |\n",
    "| ..data/news/ | n_list_x.txt | 119 |\n",
    "\n",
    "## 文言文数据清洗与插入\n",
    "总览文言文发现有以下问题\n",
    "1. 单行过短：\n",
    "\n",
    "> 　　**○成都王**\n",
    ">\n",
    ">　　成都王围京邑，城中鱼肉无出，营巷卖死驴马肉，杂死人肉卖之。　　成都王围京邑，城中无菜，采陈韭芥以为膳菜。\n",
    ">\n",
    ">　　**○张方**\n",
    ">\n",
    ">　　张方兵入洛，诸官府大劫掠，御宝织成流苏皆分剖为马帴。　　张方围京邑，决千金堰，千沟渠枯涸，井多无泉。\n",
    ">\n",
    ">　　**○荀勖**\n",
    ">\n",
    ">　　钟律之器，自周之末废，而汉成哀之间，诸儒修而治之。至后汉末，复隳矣。\n",
    "\n",
    "这一类基本为标题，与分析**语篇文本**关系不密切，经讨论决定使用文本密度算法，对于长度较短的文本采取不插入的措施。\n",
    "\n",
    "2. 冗余换行符：\n",
    "\n",
    "切分的过程中发现有的单行基本无内容：\n",
    "\n",
    "> 采茶。\n",
    ">\n",
    ">\n",
    ">\n",
    ">　　采茶之候贵及其时。太早则味全迟则神散。以谷雨前五日为上。后五日次之。再五日又次之。芽紫者为上。面皱者次之团叶又次之。光面如筱叶者最下。撤夜无云浥露采者为上。日中采者次之。阴雨中不宜采。产谷中者为上。竹下者次之。烂石中者又次之。黄砂中者又次之。\n",
    ">\n",
    ">\n",
    ">\n",
    ">　　造茶。\n",
    ">\n",
    ">\n",
    ">\n",
    ">　　新采拣去。叶及枝梗碎屑。锅广二尺四寸。将一斤半焙之。候锅极热始下急炒火不可缓。待熟方退火彻入筛中轻团那数遍。下锅中渐渐减火焙干为度中有玄微难以言显。火候均停色香全美。玄微未究神味俱疲。\n",
    ">\n",
    ">\n",
    ">\n",
    ">　　辨茶。\n",
    ">\n",
    ">\n",
    ">\n",
    ">　　之玅。在乎始造之精藏之得法泡之得宜。优劣定乎始锅。淸浊系乎末火。火香淸锅寒神倦火猛生焦柴疎失翠。久延则过熟早起却还生。熟则犯黄生则着黑。顺那则甘逆那则涩。带白点者无妨。絶焦点者最胜。\n",
    ">\n",
    "\n",
    "判断应该是换行符冗余了，检测一遍发现基本上只存在一个换行符，因此用1的策略也能去除。\n",
    "\n"
   ]
  },
  {
   "cell_type": "markdown",
   "metadata": {},
   "source": [
    "经检查texts.db文件，文言文记录的编号10000002-10435045\n",
    "\n",
    "## 期刊论文数据插入\n",
    "\n",
    "期刊论文大体上问题不大，故采用相同的插入策略\n",
    "\n",
    "* 以后要处理的问题：\n",
    "\n",
    "1. 期刊中存在古文\n",
    "\n",
    "2. 期刊中存在公式\n",
    "\n"
   ]
  },
  {
   "cell_type": "code",
   "execution_count": 3,
   "metadata": {},
   "outputs": [
    {
     "name": "stdout",
     "output_type": "stream",
     "text": [
      "已全部插入。st_99.txt的数据成功！！\n"
     ]
    }
   ],
   "source": [
    "import os\n",
    "import sqlite3\n",
    "import time\n",
    "\n",
    "\n",
    "db_location = r'../data/database/texts.db'\n",
    "db = sqlite3.connect(db_location)\n",
    "cur = db.cursor()\n",
    "print('\\r数据库连接成功！',end='')\n",
    "sql = '''\n",
    "INSERT INTO journal (texts,type,sourceid)\n",
    "VALUES (?,'modern',?)\n",
    "'''\n",
    "\n",
    "fdir = r'../data/journal/'\n",
    "for fname in os.listdir(fdir):\n",
    "    data = []\n",
    "    with open(fdir+fname,mode='r',encoding='UTF-8') as file:\n",
    "        for line in file:\n",
    "            if(len(line) > 10):\n",
    "                cur.execute(sql,[str(line),fname])\n",
    "        file.close()\n",
    "        print('\\r插入'+str(fname)+'的数据成功！',end='')\n",
    "db.commit()\n",
    "db.close()     \n",
    "print('\\r已全部插入。')"
   ]
  },
  {
   "cell_type": "markdown",
   "metadata": {},
   "source": [
    "经检查texts.db文件，期刊论文记录的编号20000001-20289729\n",
    "\n",
    "## 新闻文本数据插入\n",
    "\n",
    "新闻文本大体上问题不大，故采用相同的策略。\n",
    "\n",
    "* 以后需要处理的问题：\n",
    "\n",
    "1. 乱码\n",
    "\n",
    "2. 广告文本、链接标题文本"
   ]
  },
  {
   "cell_type": "code",
   "execution_count": 4,
   "metadata": {},
   "outputs": [
    {
     "name": "stdout",
     "output_type": "stream",
     "text": [
      "已全部插入。st_99.txt的数据成功！！\n"
     ]
    }
   ],
   "source": [
    "import os\n",
    "import sqlite3\n",
    "import time\n",
    "\n",
    "\n",
    "db_location = r'../data/database/texts.db'\n",
    "db = sqlite3.connect(db_location)\n",
    "cur = db.cursor()\n",
    "print('\\r数据库连接成功！',end='')\n",
    "sql = '''\n",
    "INSERT INTO news (texts,type,sourceid)\n",
    "VALUES (?,'modern',?)\n",
    "'''\n",
    "\n",
    "fdir = r'../data/news/'\n",
    "for fname in os.listdir(fdir):\n",
    "    data = []\n",
    "    with open(fdir+fname,mode='r',encoding='UTF-8') as file:\n",
    "        for line in file:\n",
    "            if(len(line) > 10):\n",
    "                cur.execute(sql,[str(line),fname])\n",
    "        file.close()\n",
    "        print('\\r插入'+str(fname)+'的数据成功！',end='')\n",
    "db.commit()\n",
    "db.close()     \n",
    "print('\\r已全部插入。')"
   ]
  },
  {
   "cell_type": "code",
   "execution_count": 2,
   "metadata": {
    "scrolled": true
   },
   "outputs": [
    {
     "name": "stdout",
     "output_type": "stream",
     "text": [
      "已全部插入。st_99.txt的数据成功！！\n"
     ]
    }
   ],
   "source": [
    "import os\n",
    "import sqlite3\n",
    "import time\n",
    "\n",
    "\n",
    "db_location = r'../data/database/texts.db'\n",
    "db = sqlite3.connect(db_location)\n",
    "cur = db.cursor()\n",
    "print('\\r数据库连接成功！',end='')\n",
    "sql = '''\n",
    "INSERT INTO classical (texts,type,sourceid)\n",
    "VALUES (?,'classical',?)\n",
    "'''\n",
    "\n",
    "fdir = r'../data/classical/'\n",
    "for fname in os.listdir(fdir):\n",
    "    data = []\n",
    "    with open(fdir+fname,mode='r',encoding='UTF-8') as file:\n",
    "        for line in file:\n",
    "            if(len(line) > 10):\n",
    "                cur.execute(sql,[str(line),fname])\n",
    "        file.close()\n",
    "        print('\\r插入'+str(fname)+'的数据成功！',end='')\n",
    "db.commit()\n",
    "db.close()     \n",
    "print('\\r已全部插入。')"
   ]
  },
  {
   "cell_type": "markdown",
   "metadata": {},
   "source": [
    "经检查texts.db文件，期刊论文记录的编号30000001-30212493\n"
   ]
  }
 ],
 "metadata": {
  "kernelspec": {
   "display_name": "Python 3",
   "language": "python",
   "name": "python3"
  },
  "language_info": {
   "codemirror_mode": {
    "name": "ipython",
    "version": 3
   },
   "file_extension": ".py",
   "mimetype": "text/x-python",
   "name": "python",
   "nbconvert_exporter": "python",
   "pygments_lexer": "ipython3",
   "version": "3.6.8"
  }
 },
 "nbformat": 4,
 "nbformat_minor": 4
}
