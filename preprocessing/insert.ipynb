{
 "cells": [
  {
   "cell_type": "markdown",
   "metadata": {},
   "source": [
    "# 插入文本（文言文、期刊论文、新闻）到数据库\n",
    "\n",
    "## 前言\n",
    "\n",
    "这三类文本文件源比较特殊，每一个文本只提供了一个.txt文件，但是大小非常大：\n",
    "\n",
    "| 文件名 | 大小 |\n",
    "| :------: | :------: |\n",
    "| 期刊论文文本.txt | 140.57 MB |\n",
    "| 文言文数据.txt | 100.00 MB |\n",
    "| data.txt | 299.00 MB |\n",
    "\n",
    "在Windows下使用记事本打开单个这样的文件耗费非常大，因此团队决定将其拆分为多个小文件，以便人工阅读分析归律。\n",
    "\n",
    "*拆分方法：[spliter.py](./spliter.py)*\n",
    "\n",
    "拆分后的每个文件都小于3M，行数限制在1800行以内.分别存储在以下目录：\n",
    "\n",
    "| 目录名 | 文件名格式 | 文件数量 |\n",
    "| :------: | :------: | :---: |\n",
    "| ..data/classical/ | c_list_x.txt | 273 |\n",
    "| ..data/journal/ | j_list_x.txt | 161 |\n",
    "| ..data/news/ | n_list_x.txt | 119 |\n",
    "\n",
    "## 文言文数据清洗与插入\n",
    "总览文言文发现有以下问题\n",
    "1. 单行过短：\n",
    "\n",
    "> 　　**○成都王**\n",
    ">\n",
    ">　　成都王围京邑，城中鱼肉无出，营巷卖死驴马肉，杂死人肉卖之。　　成都王围京邑，城中无菜，采陈韭芥以为膳菜。\n",
    ">\n",
    ">　　**○张方**\n",
    ">\n",
    ">　　张方兵入洛，诸官府大劫掠，御宝织成流苏皆分剖为马帴。　　张方围京邑，决千金堰，千沟渠枯涸，井多无泉。\n",
    ">\n",
    ">　　**○荀勖**\n",
    ">\n",
    ">　　钟律之器，自周之末废，而汉成哀之间，诸儒修而治之。至后汉末，复隳矣。\n",
    "\n",
    "这一类基本为标题，与分析**语篇文本**关系不密切，经讨论决定使用文本密度算法，对于长度较短的文本采取不插入的措施。\n",
    "\n",
    "2. 冗余换行符：\n",
    "\n",
    "切分的过程中发现有的单行基本无内容：\n",
    "\n",
    "> 采茶。\n",
    ">\n",
    ">\n",
    ">\n",
    ">　　采茶之候贵及其时。太早则味全迟则神散。以谷雨前五日为上。后五日次之。再五日又次之。芽紫者为上。面皱者次之团叶又次之。光面如筱叶者最下。撤夜无云浥露采者为上。日中采者次之。阴雨中不宜采。产谷中者为上。竹下者次之。烂石中者又次之。黄砂中者又次之。\n",
    ">\n",
    ">\n",
    ">\n",
    ">　　造茶。\n",
    ">\n",
    ">\n",
    ">\n",
    ">　　新采拣去。叶及枝梗碎屑。锅广二尺四寸。将一斤半焙之。候锅极热始下急炒火不可缓。待熟方退火彻入筛中轻团那数遍。下锅中渐渐减火焙干为度中有玄微难以言显。火候均停色香全美。玄微未究神味俱疲。\n",
    ">\n",
    ">\n",
    ">\n",
    ">　　辨茶。\n",
    ">\n",
    ">\n",
    ">\n",
    ">　　之玅。在乎始造之精藏之得法泡之得宜。优劣定乎始锅。淸浊系乎末火。火香淸锅寒神倦火猛生焦柴疎失翠。久延则过熟早起却还生。熟则犯黄生则着黑。顺那则甘逆那则涩。带白点者无妨。絶焦点者最胜。\n",
    ">\n",
    "\n",
    "判断应该是换行符冗余了，检测一遍发现基本上只存在一个换行符，因此用1的策略也能去除。\n",
    "\n"
   ]
  },
  {
   "cell_type": "markdown",
   "metadata": {},
   "source": [
    "经检查texts.db文件，文言文记录的编号10000002-10435045\n",
    "\n",
    "## 期刊论文数据插入\n",
    "\n",
    "期刊论文大体上问题不大，故采用相同的插入策略\n",
    "\n",
    "* 以后要处理的问题：\n",
    "\n",
    "1. 期刊中存在古文\n",
    "\n",
    "2. 期刊中存在公式\n",
    "\n"
   ]
  },
  {
   "cell_type": "code",
   "execution_count": null,
   "metadata": {},
   "outputs": [],
   "source": []
  },
  {
   "cell_type": "code",
   "execution_count": null,
   "metadata": {},
   "outputs": [],
   "source": []
  },
  {
   "cell_type": "code",
   "execution_count": null,
   "metadata": {},
   "outputs": [],
   "source": []
  },
  {
   "cell_type": "code",
   "execution_count": 3,
   "metadata": {},
   "outputs": [
    {
     "name": "stdout",
     "output_type": "stream",
     "text": [
      "已全部插入。st_99.txt的数据成功！！\n"
     ]
    }
   ],
   "source": [
    "import os\n",
    "import sqlite3\n",
    "import time\n",
    "\n",
    "\n",
    "db_location = r'../data/database/texts.db'\n",
    "db = sqlite3.connect(db_location)\n",
    "cur = db.cursor()\n",
    "print('\\r数据库连接成功！',end='')\n",
    "sql = '''\n",
    "INSERT INTO journal (texts,type,sourceid)\n",
    "VALUES (?,'modern',?)\n",
    "'''\n",
    "\n",
    "fdir = r'../data/journal/'\n",
    "for fname in os.listdir(fdir):\n",
    "    data = []\n",
    "    with open(fdir+fname,mode='r',encoding='UTF-8') as file:\n",
    "        for line in file:\n",
    "            if(len(line) > 10):\n",
    "                cur.execute(sql,[str(line),fname])\n",
    "        file.close()\n",
    "        print('\\r插入'+str(fname)+'的数据成功！',end='')\n",
    "db.commit()\n",
    "db.close()     \n",
    "print('\\r已全部插入。')"
   ]
  },
  {
   "cell_type": "markdown",
   "metadata": {},
   "source": [
    "经检查texts.db文件，期刊论文记录的编号20000001-20289729\n",
    "\n",
    "## 新闻文本数据插入\n",
    "\n",
    "新闻文本大体上问题不大，故采用相同的策略。\n",
    "\n",
    "* 以后需要处理的问题：\n",
    "\n",
    "1. 乱码\n",
    "\n",
    "2. 广告文本、链接标题文本"
   ]
  },
  {
   "cell_type": "code",
   "execution_count": 4,
   "metadata": {},
   "outputs": [
    {
     "name": "stdout",
     "output_type": "stream",
     "text": [
      "已全部插入。st_99.txt的数据成功！！\n"
     ]
    }
   ],
   "source": [
    "db_location = r'../data/database/texts.db'\n",
    "db = sqlite3.connect(db_location)\n",
    "cur = db.cursor()\n",
    "print('\\r数据库连接成功！',end='')\n",
    "sql = '''\n",
    "INSERT INTO news (texts,type,sourceid)\n",
    "VALUES (?,'modern',?)\n",
    "'''\n",
    "\n",
    "fdir = r'../data/news/'\n",
    "for fname in os.listdir(fdir):\n",
    "    data = []\n",
    "    with open(fdir+fname,mode='r',encoding='UTF-8') as file:\n",
    "        for line in file:\n",
    "            if(len(line) > 10):\n",
    "                cur.execute(sql,[str(line),fname])\n",
    "        file.close()\n",
    "        print('\\r插入'+str(fname)+'的数据成功！',end='')\n",
    "db.commit()\n",
    "db.close()     \n",
    "print('\\r已全部插入。')"
   ]
  },
  {
   "cell_type": "code",
   "execution_count": 2,
   "metadata": {
    "scrolled": true
   },
   "outputs": [
    {
     "name": "stdout",
     "output_type": "stream",
     "text": [
      "已全部插入。st_99.txt的数据成功！！\n"
     ]
    }
   ],
   "source": [
    "db_location = r'../data/database/texts.db'\n",
    "db = sqlite3.connect(db_location)\n",
    "cur = db.cursor()\n",
    "print('\\r数据库连接成功！',end='')\n",
    "sql = '''\n",
    "INSERT INTO classical (texts,type,sourceid)\n",
    "VALUES (?,'classical',?)\n",
    "'''\n",
    "\n",
    "fdir = r'../data/classical/'\n",
    "for fname in os.listdir(fdir):\n",
    "    data = []\n",
    "    with open(fdir+fname,mode='r',encoding='UTF-8') as file:\n",
    "        for line in file:\n",
    "            if(len(line) > 10):\n",
    "                cur.execute(sql,[str(line),fname])\n",
    "        file.close()\n",
    "        print('\\r插入'+str(fname)+'的数据成功！',end='')\n",
    "db.commit()\n",
    "db.close()     \n",
    "print('\\r已全部插入。')"
   ]
  },
  {
   "cell_type": "markdown",
   "metadata": {},
   "source": [
    "经检查texts.db文件，期刊论文记录的编号30000001-30212493\n",
    "\n",
    "# 清洗并插入诗词文本\n",
    "\n",
    "## 前言\n",
    "\n",
    "小组已经插入好诗词文本到sqlite数据库，分别存于ci_with_type.db,poet_with_type.db。但是这些文本是未经清洗的，在原语料库中存有对一些错误文本的描述信息，小组成员对错误信息（主要是关于宋诗、唐诗）在存入了数据库error.db。部分错误信息摘录如下：\n",
    "\n",
    ">1.  `内容含符号存疑->詩題：搗砧詞首句：星斿耿耿寒煙浮。` --- 判断可能是诗句中出现了不应该出现的符号，如`：`，对于此类错误不处理。\n",
    "> \n",
    ">2.  `内容太少存疑->田。` --- 判断是爬取时未能爬取到完整的诗词信息，对于此类错误的诗篇采取**删除记录**处理。\n",
    ">\n",
    ">3.  `标题豆腐块` --- 标题中出现豆腐块字。对于豆腐块字`□`，语料库作者解释为 **“消缺号”**，是诗词在最初记录时出现字迹不清等现象，无法辨认的字，在现存记录中无法找到对应字。对于仅仅在标题中出现的豆腐块字，由于不影响内容读取，对于此类错误不处理。\n",
    ">\n",
    ">4.  `内容豆腐块->充庖資爽口，泛酒助𨠑□。` --- 内容中出现豆腐块，小组成员认为是比较严重的问题，直接从文本中删去可能影响上下文判断（因为诗句篇章本身就较短），甚至还有的篇章50%的内容都是豆腐块；因此小组成员经讨论认为采取**删除记录**处理。\n",
    "> \n",
    "\n",
    "## 提取含有应删除记录的id"
   ]
  },
  {
   "cell_type": "code",
   "execution_count": 14,
   "metadata": {},
   "outputs": [
    {
     "name": "stdout",
     "output_type": "stream",
     "text": [
      "\r",
      " errdb 连接成功！8997\n",
      "2982\n"
     ]
    }
   ],
   "source": [
    "import sqlite3\n",
    "\n",
    "db_err_loc = r'../data/database/errors.db'\n",
    "db_err = sqlite3.connect(db_err_loc)\n",
    "cur_err = db_err.cursor()\n",
    "print('\\r errdb 连接成功！',end='')\n",
    "sql_err = '''\n",
    "SELECT id,error\n",
    "FROM errors\n",
    "'''\n",
    "cur_err.execute(sql_err)\n",
    "data = [] \n",
    "data = cur_err.fetchall()  \n",
    "err_list = []\n",
    "for rec in data:\n",
    "    err_list.append(list(rec))\n",
    "print(len(err_list))\n",
    "    \n",
    "err = []\n",
    "for rec in err_list:\n",
    "    if '内容豆腐块' in item or '内容太少存疑' in rec:\n",
    "        err.append(rec)\n",
    "    \n",
    "print(len(err))"
   ]
  },
  {
   "cell_type": "markdown",
   "metadata": {},
   "source": [
    "## 在原表中删除这些记录"
   ]
  },
  {
   "cell_type": "code",
   "execution_count": 39,
   "metadata": {},
   "outputs": [
    {
     "name": "stdout",
     "output_type": "stream",
     "text": [
      "\r",
      " db 连接成功！"
     ]
    }
   ],
   "source": [
    "db_in_loc = r'../data/database/poet_with_type.db'\n",
    "db_in = sqlite3.connect(db_in_loc)\n",
    "cur_in = db_in.cursor()\n",
    "print('\\r db 连接成功！',end='')\n",
    "sql_delete = '''\n",
    "DELETE FROM poet\n",
    "WHERE id = '%s'\n",
    "'''\n",
    "for i in err:\n",
    "    cur_in.execute(sql_delete%i)\n",
    "    \n",
    "db_in.commit()\n",
    "db_in.close()"
   ]
  },
  {
   "cell_type": "markdown",
   "metadata": {},
   "source": [
    "## 取出原表（诗）所有记录"
   ]
  },
  {
   "cell_type": "code",
   "execution_count": 40,
   "metadata": {},
   "outputs": [
    {
     "name": "stdout",
     "output_type": "stream",
     "text": [
      "取出记录样例:功！\n",
      "[['08e41396-2809-423d-9bbc-1e6fb24c0ca1', '欲出未出光辣达，千山万山如火发。 须臾走向天上来，逐却残星赶却月。 ', 'poet'], ['adaa27a4-389b-48ca-8021-80f0471433c4', '未离海底千山黑，才到天中万国明。 ', 'poet'], ['05efccd1-3be1-44e8-a38a-78b9f9715a1f', '满目江山四望幽，白云高卷嶂烟收。 日回禽影穿疏木，风递猿声入小楼。 远岫似屏横碧落，断帆如叶截中流。 ', 'poet'], ['f7a148f0-e5ea-413e-8647-da1650104682', '片片飞来静又闲，楼头江上复山前。 飘零尽日不归去，帖破清光万里天。 ', 'poet'], ['f70f9128-5221-4bdc-9dbf-63492c40e826', '因登巨石知来处，勃勃元生绿藓痕。 静即等闲藏草木，动时顷刻徧乾坤。 横天未必朋元恶，捧日还曾瑞至尊。 不独朝朝在巫峡，楚王何事谩劳魂。 ', 'poet']]\n"
     ]
    }
   ],
   "source": [
    "import sqlite3\n",
    "\n",
    "db_in_loc = r'../data/database/poet_with_type.db'\n",
    "db_in = sqlite3.connect(db_in_loc)\n",
    "cur_in = db_in.cursor()\n",
    "print('\\r db 连接成功！',end='')\n",
    "sql_in = '''\n",
    "SELECT id,paragraphs,type\n",
    "FROM poet\n",
    "'''\n",
    "\n",
    "cur_in.execute(sql_in)\n",
    "data = [] \n",
    "data = cur_in.fetchall()\n",
    "\n",
    "poets = []\n",
    "for poet in data:\n",
    "    poets.append(list(poet))\n",
    "for poet in poets:\n",
    "    poet[1] = poet[1].replace('\\n',' ')\n",
    "print(\"\\r取出记录样例:\")\n",
    "print(poets[:5])"
   ]
  },
  {
   "cell_type": "markdown",
   "metadata": {},
   "source": [
    "## 插入所有记录（诗）"
   ]
  },
  {
   "cell_type": "code",
   "execution_count": 43,
   "metadata": {},
   "outputs": [
    {
     "name": "stdout",
     "output_type": "stream",
     "text": [
      "\r",
      "数据库连接成功！"
     ]
    }
   ],
   "source": [
    "db_location = r'../data/database/texts.db'\n",
    "db = sqlite3.connect(db_location)\n",
    "cur = db.cursor()\n",
    "print('\\r数据库连接成功！',end='')\n",
    "sql = '''\n",
    "INSERT INTO poet (sourceid,texts,type)\n",
    "VALUES (?,?,?)\n",
    "'''\n",
    "\n",
    "cur.executemany(sql,poets)\n",
    "db.commit()\n",
    "db.close()"
   ]
  },
  {
   "cell_type": "markdown",
   "metadata": {},
   "source": [
    "## 取出原表（词）所有记录\n",
    "\n",
    "在之前已经对词进行繁转简\n",
    "\n",
    "词无问题，暂时不需处理"
   ]
  },
  {
   "cell_type": "code",
   "execution_count": 45,
   "metadata": {},
   "outputs": [
    {
     "name": "stdout",
     "output_type": "stream",
     "text": [
      "\r",
      " db 连接成功！\r",
      "取出记录样例:\n",
      "[[1, '气和玉烛，睿化著鸿明。 缇管一阳生。 郊盛礼燔柴毕，旋轸凤凰城。 森罗仪卫振华缨。 载路溢欢声。 皇图大业超前古，垂象泰阶平。 岁时丰衍，九土乐升平。 睹寰海澄清。 道高尧舜垂衣治，日月并文明。 嘉禾甘露登歌荐，云物焕祥经。 兢兢惕惕持谦德，未许禅云亭。', 'ci'], [2, '严夜警，铜莲漏迟迟。 清禁肃，森陛戟，羽卫俨皇闱。 角声励，钲鼓攸宜。 金管成雅奏，逐吹逶迤。 荐苍璧，郊祀神祗。 属景运纯禧。 京坻丰衍，群材乐育，诸侯述职，盛德服蛮夷。 殊祥萃，九苞丹凤来仪。 膏露降，和气洽，三秀焕灵芝。 鸿猷播，史册相辉。 张四维。 卜世永固丕基。 敷玄化，荡荡无为。 合尧舜文思。 混并寰宇，休牛归马，销金偃革，蹈咏庆昌期。', 'ci'], [3, '承宝运，驯致隆平。 鸿庆被寰瀛。 时清俗阜，治定功成。 遐迩咏由庚。 严郊祀，文物声明。 会天正、星拱奏严更。 布羽仪簪缨。 宸心虔洁，明德播惟馨。 动苍冥。 神降享精诚。 燔柴半，万乘移天仗，肃銮辂旋衡。 千官云拥，群后葵倾。 玉帛旅明庭。 韶荐，金奏谐声。 集休亨。 皇泽浃黎庶，普率洽恩荣。 仰钦元后，睿圣贯三灵。 万邦宁。 景贶福千龄。', 'ci'], [4, '雨恨云愁，江南依旧称佳丽。 水村渔市。 一缕孤烟细。 天际征鸿，遥认行如缀。 平生事。 此时凝睇。 谁会凭阑意。  >>  词牌介绍', 'ci'], [5, '神仙神仙瑶池宴。 片片。 碧桃零落春风晚。 翠云开处，隐隐金舆挽。 玉麟背冷清风远。', 'ci']]\n"
     ]
    }
   ],
   "source": [
    "db_in_loc = r'../data/database/ci_with_type.db'\n",
    "db_in = sqlite3.connect(db_in_loc)\n",
    "cur_in = db_in.cursor()\n",
    "print('\\r db 连接成功！',end='')\n",
    "sql_in = '''\n",
    "SELECT value,content,type\n",
    "FROM ci\n",
    "'''\n",
    "\n",
    "cur_in.execute(sql_in)\n",
    "data = [] \n",
    "data = cur_in.fetchall()\n",
    "\n",
    "cis = []\n",
    "for ci in data:\n",
    "    cis.append(list(ci))\n",
    "for ci in cis:\n",
    "    ci[1] = ci[1].replace('\\n',' ')\n",
    "print(\"\\r取出记录样例:\")\n",
    "print(cis[:5])"
   ]
  },
  {
   "cell_type": "markdown",
   "metadata": {},
   "source": [
    "## 插入所有记录（词）"
   ]
  },
  {
   "cell_type": "code",
   "execution_count": 46,
   "metadata": {},
   "outputs": [
    {
     "name": "stdout",
     "output_type": "stream",
     "text": [
      "\r",
      "数据库连接成功！"
     ]
    }
   ],
   "source": [
    "db_location = r'../data/database/texts.db'\n",
    "db = sqlite3.connect(db_location)\n",
    "cur = db.cursor()\n",
    "print('\\r数据库连接成功！',end='')\n",
    "sql = '''\n",
    "INSERT INTO ci (sourceid,texts,type)\n",
    "VALUES (?,?,?)\n",
    "'''\n",
    "\n",
    "cur.executemany(sql,cis)\n",
    "db.commit()\n",
    "db.close()"
   ]
  },
  {
   "cell_type": "markdown",
   "metadata": {},
   "source": [
    "# 完成！\n",
    "\n",
    "至此，所有文本的插入工作完成，所有文本存储在../data/database/texts.db中。\n",
    "\n",
    "$$texts.db 表结构$$\n",
    "\n",
    "| 表名 | id范围 | 字段名 | 备注 |\n",
    "| :----: | :----------------: | :----------------: | :--------: |\n",
    "| classical | (10000002, 10435045) | (id,texts,type,sourceid) | 文言文 |\n",
    "| journal | (20000001, 20289729) | (id,texts,type,sourceid) | 期刊论文 |\n",
    "| news | (30000001, 30212493) | (id,texts,type,sourceid) | 新闻 |\n",
    "| poet | (40000001, 40308879) | (id,texts,type,sourceid) | 唐诗、宋诗 |\n",
    "| ci | (50000001, 50021050) | (id,texts,type,sourceid) | 词 |\n",
    "\n",
    ":star:"
   ]
  }
 ],
 "metadata": {
  "kernelspec": {
   "display_name": "Python 3",
   "language": "python",
   "name": "python3"
  },
  "language_info": {
   "codemirror_mode": {
    "name": "ipython",
    "version": 3
   },
   "file_extension": ".py",
   "mimetype": "text/x-python",
   "name": "python",
   "nbconvert_exporter": "python",
   "pygments_lexer": "ipython3",
   "version": "3.6.8"
  }
 },
 "nbformat": 4,
 "nbformat_minor": 4
}
