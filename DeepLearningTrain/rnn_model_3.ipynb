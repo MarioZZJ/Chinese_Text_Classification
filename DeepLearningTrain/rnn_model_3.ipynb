{
 "cells": [
  {
   "cell_type": "markdown",
   "metadata": {
    "id": "D_Zf8gMU6SRm"
   },
   "source": [
    "# 准备工作\n",
    "## \\* Google Colab 部署使用\n",
    "\n",
    "利用Google Colab可获取12GB RAM和8G GPU运算资源，减轻本地计算机负担。由于Colab是在服务器虚拟机上运行，不能和本地文件相连，因此需要将数据文件上传。而由于Colab的不稳定性，虚拟机在用户退出使用或遭到意外时会立即销毁，因此需要将文件上传到谷歌硬盘而非虚拟机。接下来的操作可以**让虚拟机在运行时连接到自己的谷歌硬盘**。\n",
    "\n",
    "如果您是在本地计算机运行程序，请**不要运行**接下来的代码块。\n",
    "\n"
   ]
  },
  {
   "cell_type": "code",
   "execution_count": 1,
   "metadata": {
    "colab": {
     "base_uri": "https://localhost:8080/"
    },
    "executionInfo": {
     "elapsed": 20052,
     "status": "ok",
     "timestamp": 1606307044407,
     "user": {
      "displayName": "Mario Plumber",
      "photoUrl": "",
      "userId": "15447310660380136818"
     },
     "user_tz": -480
    },
    "id": "8tI90ej4PRj1",
    "outputId": "6a3d3de6-a731-4e44-9a4a-01deffe0ff25"
   },
   "outputs": [
    {
     "name": "stdout",
     "output_type": "stream",
     "text": [
      "Mounted at /content/drive\n"
     ]
    }
   ],
   "source": [
    "from google.colab import drive\n",
    "drive.mount('/content/drive')  #连接到谷歌硬盘，会弹出一个链接，点击链接\n",
    "                #并登录您的谷歌账号后，系统将提供一个密码，\n",
    "                #复制到输入框内即可通过验证。\n",
    "\n",
    "import os\n",
    "os.chdir('/content/drive/My Drive/Colab Notebooks/Projects/TextMining/Text_Classifier1/DeepLearningTrain')\n",
    "# 设定项目默认目录，默认My Drive下是谷歌硬盘根目录，根据实际情况配置。\n",
    "\n",
    "# 接下来就可以使用相对地址了"
   ]
  },
  {
   "cell_type": "markdown",
   "metadata": {
    "id": "0sM1cQly74H_"
   },
   "source": [
    "## 导入本次项目需要用到的包"
   ]
  },
  {
   "cell_type": "code",
   "execution_count": 1,
   "metadata": {
    "executionInfo": {
     "elapsed": 5845,
     "status": "ok",
     "timestamp": 1606307062370,
     "user": {
      "displayName": "Mario Plumber",
      "photoUrl": "",
      "userId": "15447310660380136818"
     },
     "user_tz": -480
    },
    "id": "6raVZ5KsPMdd"
   },
   "outputs": [],
   "source": [
    "import sqlite3\n",
    "import numpy as np\n",
    "import pandas as pd\n",
    "from torch.utils.data import Dataset,DataLoader\n",
    "from torch import optim\n",
    "import torch\n",
    "from torch import nn\n",
    "import torch.nn.functional as F\n",
    "import numpy as np\n",
    "import sklearn\n",
    "import string\n",
    "import random\n",
    "import matplotlib.pyplot as plt"
   ]
  },
  {
   "cell_type": "markdown",
   "metadata": {
    "id": "ZTF8BLIE8tLY"
   },
   "source": [
    "# 数据读取与预处理\n",
    "\n",
    "## 文本字符串清洗处理"
   ]
  },
  {
   "cell_type": "code",
   "execution_count": 2,
   "metadata": {
    "executionInfo": {
     "elapsed": 2554,
     "status": "ok",
     "timestamp": 1606307066223,
     "user": {
      "displayName": "Mario Plumber",
      "photoUrl": "",
      "userId": "15447310660380136818"
     },
     "user_tz": -480
    },
    "id": "zXuXRbWOPMdu"
   },
   "outputs": [],
   "source": [
    "def split_spaces(data): ## 输入未处理的数据，第二列为文本，返回用空格分隔好第二列的字符串组成的列表。\n",
    "    data_list = []\n",
    "    for line in data:\n",
    "        data_list.append(list(line))\n",
    "        \n",
    "    for item in data_list:\n",
    "        item = ' '.join(list(item))\n",
    "    return data_list\n",
    "\n",
    "def desymbol(data):\n",
    "    import re\n",
    "    data_desymbol = []\n",
    "    for line in data:\n",
    "        data_desymbol.append(list(line))\n",
    "    for row in data_desymbol:\n",
    "        row[1] = re.sub(u\"[^a-zA-Z0-9\\u4E00-\\u9FA5。]\",\"\",row[1]) #仅保留大小写字母、阿拉伯数字和汉字、句号。\n",
    "    return data_desymbol\n",
    "\n",
    "def add_start_end(data): #句子首尾添加标记，该处理仅在ngram策略下必须。\n",
    "    data_with_se = []\n",
    "    for line in data:\n",
    "        data_with_se.append(list(line))\n",
    "    for row in data_with_se:\n",
    "        row[1] = \"<start> \"+row[1]+\" <end>\"\n",
    "    return data_with_se\n"
   ]
  },
  {
   "cell_type": "markdown",
   "metadata": {
    "id": "ku8r3jka8wwH"
   },
   "source": [
    "## 从sqlite3数据库文件读取数据"
   ]
  },
  {
   "cell_type": "code",
   "execution_count": 3,
   "metadata": {
    "executionInfo": {
     "elapsed": 1428,
     "status": "ok",
     "timestamp": 1606307069301,
     "user": {
      "displayName": "Mario Plumber",
      "photoUrl": "",
      "userId": "15447310660380136818"
     },
     "user_tz": -480
    },
    "id": "OJYzI7r5PMd1"
   },
   "outputs": [],
   "source": [
    "def load_from_db(num,start):\n",
    "    conn = sqlite3.connect(\"data/database/texts.db\")\n",
    "    print ('Opened database successfully')\n",
    "    c = conn.cursor()\n",
    "    # 数据表结构(id,texts,type,sourceid)\n",
    "    ci_data=[]\n",
    "    cursor = c.execute(\"SELECT * from ci order by id desc limit \"+str(start)+\",\"+str(num))\n",
    "    for row in cursor:\n",
    "        ci_data.append(row)\n",
    "\n",
    "    poet_data = []\n",
    "    cursor=c.execute(\"SELECT * FROM poet order by id desc limit \"+str(start)+\",\"+str(num))\n",
    "    for row in cursor:\n",
    "        poet_data.append(row)\n",
    "\n",
    "    classical_data = []\n",
    "    cursor=c.execute(\"SELECT * FROM classical order by id desc limit \"+str(start)+\",\"+str(num))\n",
    "    for row in cursor:\n",
    "        classical_data.append(row)\n",
    "\n",
    "    journal_data = []\n",
    "    cursor=c.execute(\"SELECT * FROM journal order by id desc limit \"+str(start)+\",\"+str(num))\n",
    "    for row in cursor:\n",
    "        journal_data.append(row)\n",
    "    \n",
    "    news_data = []\n",
    "    cursor=c.execute(\"SELECT * FROM news order by id asc limit \"+str(start)+\",\"+str(num))\n",
    "    for row in cursor:\n",
    "        news_data.append(row)\n",
    "\n",
    "    print(\"所有类型数据读取成功，每类的条数：\"+str(num))\n",
    "    conn.close()\n",
    "    data = ci_data + poet_data + classical_data + journal_data + news_data\n",
    "    \n",
    "    # return add_start_end(desymbol(split_spaces(data)))\n",
    "    return desymbol(data) # 初步清洗\n"
   ]
  },
  {
   "cell_type": "code",
   "execution_count": 4,
   "metadata": {
    "executionInfo": {
     "elapsed": 1466,
     "status": "ok",
     "timestamp": 1606307072446,
     "user": {
      "displayName": "Mario Plumber",
      "photoUrl": "",
      "userId": "15447310660380136818"
     },
     "user_tz": -480
    },
    "id": "Cr6LKLcRPMeA"
   },
   "outputs": [],
   "source": [
    "def get_text(data): # 将传入数据的文本内容单独提取出来成为列表\n",
    "    textlist = []\n",
    "    if(len(np.array(data).shape) > 1): # 如果传入的是多条数据而不是一条数据，np.array.shape返回的是一个二维tuple，长度大于1\n",
    "        for row in data:\n",
    "            textlist.append(row[0])\n",
    "    else: textlist.append(data[1]) # 如果只传入一条数据，就只处理它的第二列\n",
    "    return textlist"
   ]
  },
  {
   "cell_type": "code",
   "execution_count": 44,
   "metadata": {
    "colab": {
     "base_uri": "https://localhost:8080/"
    },
    "executionInfo": {
     "elapsed": 15996,
     "status": "ok",
     "timestamp": 1606307089771,
     "user": {
      "displayName": "Mario Plumber",
      "photoUrl": "",
      "userId": "15447310660380136818"
     },
     "user_tz": -480
    },
    "id": "cGeoEQSqPMeE",
    "outputId": "17cf6244-0450-4983-f8e2-ded863e47699"
   },
   "outputs": [
    {
     "name": "stdout",
     "output_type": "stream",
     "text": [
      "Opened database successfully\n",
      "所有类型数据读取成功，每类的条数：1800\n",
      "Opened database successfully\n",
      "所有类型数据读取成功，每类的条数：200\n"
     ]
    }
   ],
   "source": [
    "train_data = load_from_db(1800,0)\n",
    "test_data = load_from_db(200,400)"
   ]
  },
  {
   "cell_type": "markdown",
   "metadata": {
    "id": "cWY-puEw-qIj"
   },
   "source": [
    "## 句子分割\n",
    "\n",
    "使用神经网络进行深度学习时，要求输入的张量必须具有相同的维度，这对张量形状提出了要求。\n",
    "\n",
    "根据我们先前对文本的总体把握，现代文文本语篇的平均长度要明显大于诗词等，如果本次实验还将语篇作为单个分类的对象，那么对于较短的语料其张量会存在着大量的空标签，造成影响很大的冗余，会大幅降低准确度，提升损失值，同时张量长度的增大也会造成计算的缓慢。因此我们需要转换策略，减少分类文本在字符长度上的悬殊。\n",
    "\n",
    "我们决定使用句号`。`来切分文本，根据调研，调取各6000条语料，使用句号分割可以获得约25万条句子，而限定长度为40可以获得约23万条句子，较为合理，因此限定长度为40."
   ]
  },
  {
   "cell_type": "code",
   "execution_count": 45,
   "metadata": {
    "executionInfo": {
     "elapsed": 837,
     "status": "ok",
     "timestamp": 1606307095387,
     "user": {
      "displayName": "Mario Plumber",
      "photoUrl": "",
      "userId": "15447310660380136818"
     },
     "user_tz": -480
    },
    "id": "DA0xZFs8-UnI"
   },
   "outputs": [],
   "source": [
    "def shorten_text(data):\n",
    "  data_list = []\n",
    "  for row in data:\n",
    "    splited_sentence_list = row[1].split(\"。\")\n",
    "    for sentence in splited_sentence_list:\n",
    "      if len(sentence) > 0 and len(sentence) < 40:\n",
    "        data_list.append([sentence,row[2]])\n",
    "\n",
    "  return data_list"
   ]
  },
  {
   "cell_type": "code",
   "execution_count": 46,
   "metadata": {
    "executionInfo": {
     "elapsed": 1535,
     "status": "ok",
     "timestamp": 1606307097120,
     "user": {
      "displayName": "Mario Plumber",
      "photoUrl": "",
      "userId": "15447310660380136818"
     },
     "user_tz": -480
    },
    "id": "MZiL7Y5wF-_b"
   },
   "outputs": [],
   "source": [
    "train_data_shortened = shorten_text(train_data)\n",
    "test_data_shortened = shorten_text(test_data)\n",
    "del train_data\n",
    "del test_data\n"
   ]
  },
  {
   "cell_type": "code",
   "execution_count": null,
   "metadata": {
    "colab": {
     "base_uri": "https://localhost:8080/"
    },
    "executionInfo": {
     "elapsed": 785,
     "status": "ok",
     "timestamp": 1605582792560,
     "user": {
      "displayName": "Mario Plumber",
      "photoUrl": "",
      "userId": "15447310660380136818"
     },
     "user_tz": -480
    },
    "id": "HqPLryidJr11",
    "outputId": "42072bdc-b1be-4394-e095-1911da466d5b"
   },
   "outputs": [
    {
     "name": "stdout",
     "output_type": "stream",
     "text": [
      "39\n",
      "259543\n",
      "190819\n",
      "['净洗妒春颜色胜小红临水湔裙', '烟渡远应怜旧曲换叶移根', '山中去年人到怪月悄风轻闲掩重门', '琼肌瘦损那堪燕子黄昏', '几片故溪浮玉似夜归深雪前村', '芳梦冷双禽误宿粉云', '绀葩乍坼', '笑烂漫娇红不是春色', '换了素妆重把青螺轻拂', '旧歌共渡烟江却占玉奴标格']\n"
     ]
    }
   ],
   "source": [
    "# 废弃的代码：长度调研\n",
    "\n",
    "# sentencelist = []\n",
    "# max = 0\n",
    "# count = 0\n",
    "\n",
    "# for row in textlist:\n",
    "#   splited = row.split(\"。\")\n",
    "#   for sentence in splited:\n",
    "#     count += 1\n",
    "#     if len(sentence) < 40 and len(sentence) > 0:\n",
    "#       if len(sentence) > max: max = len(sentence)\n",
    "#       sentencelist.append(sentence)\n",
    "\n",
    "# print(max)\n",
    "# print(count)\n",
    "# print(len(sentencelist))\n"
   ]
  },
  {
   "cell_type": "code",
   "execution_count": 47,
   "metadata": {
    "executionInfo": {
     "elapsed": 871,
     "status": "ok",
     "timestamp": 1606307099165,
     "user": {
      "displayName": "Mario Plumber",
      "photoUrl": "",
      "userId": "15447310660380136818"
     },
     "user_tz": -480
    },
    "id": "qUO6q5uTLAEb"
   },
   "outputs": [],
   "source": [
    "x_train = []\n",
    "y_train = []\n",
    "for row in train_data_shortened:\n",
    "  x_train.append(row[0])\n",
    "  y_train.append(row[1])\n",
    "#del train_data_shortened\n",
    "\n",
    "x_dev = []\n",
    "y_dev = []\n",
    "for row in test_data_shortened:\n",
    "  x_dev.append(row[0])\n",
    "  y_dev.append(row[1])\n",
    "#del test_data_shortened"
   ]
  },
  {
   "cell_type": "markdown",
   "metadata": {
    "id": "LpExmv9tBvKL"
   },
   "source": [
    "## X标签处理：转化为字向量\n",
    "\n",
    "### 方法1：词袋法(TF-IDF)[请勿运行]\n",
    "\n",
    "**结果较差，可以再调试**\n",
    "\n",
    "利用自己的语料训练自己的向量转化模型。\n",
    "\n",
    "> TF-IDF(term frequency-inverse document frequency)词频-逆向文件频率。该模型认为，字词的重要性与其在文本中出现的频率成正比(TF)，与其在语料库中出现的频率成反比(IDF)。\n",
    "> \n",
    "> TF为某个词在文章中出现的总次数。为了消除不同文章大小之间的差异，便于不同文章之间的比较，我们在此标准化词频：$TF = \\dfrac{某个词在文章中出现的总次数}{文章的总词数}。$\n",
    ">\n",
    "> IDF为逆文档频率。逆文档频率 $IDF = log \\dfrac{词料库的文档总数}{包含该词的文档数+1} $。\n",
    ">\n",
    "> 为了避免分母为0，所以在分母上加1。\n",
    ">\n",
    "> $TF-IDF值 = TF * IDF。$\n",
    ">\n",
    "> 这里我们同时加入了ngram参数，必要时考虑前后词共现关系。"
   ]
  },
  {
   "cell_type": "code",
   "execution_count": 13,
   "metadata": {
    "colab": {
     "base_uri": "https://localhost:8080/"
    },
    "executionInfo": {
     "elapsed": 719,
     "status": "ok",
     "timestamp": 1605615301423,
     "user": {
      "displayName": "Mario Plumber",
      "photoUrl": "",
      "userId": "15447310660380136818"
     },
     "user_tz": -480
    },
    "id": "Ue55QvrSDEJe",
    "outputId": "16d2cbf0-724b-4b47-d1eb-556da349b427"
   },
   "outputs": [
    {
     "ename": "NameError",
     "evalue": "name 'train_data_shortened' is not defined",
     "output_type": "error",
     "traceback": [
      "\u001b[1;31m---------------------------------------------------------------------------\u001b[0m",
      "\u001b[1;31mNameError\u001b[0m                                 Traceback (most recent call last)",
      "\u001b[1;32m<ipython-input-13-52a8b2d08651>\u001b[0m in \u001b[0;36m<module>\u001b[1;34m\u001b[0m\n\u001b[0;32m      2\u001b[0m \u001b[1;33m\u001b[0m\u001b[0m\n\u001b[0;32m      3\u001b[0m \u001b[0mtv\u001b[0m \u001b[1;33m=\u001b[0m \u001b[0mTfidfVectorizer\u001b[0m\u001b[1;33m(\u001b[0m\u001b[0manalyzer\u001b[0m\u001b[1;33m=\u001b[0m\u001b[1;34m'char'\u001b[0m\u001b[1;33m,\u001b[0m \u001b[0mmax_features\u001b[0m\u001b[1;33m=\u001b[0m\u001b[1;36m20000\u001b[0m\u001b[1;33m,\u001b[0m\u001b[0mngram_range\u001b[0m\u001b[1;33m=\u001b[0m\u001b[1;33m(\u001b[0m\u001b[1;36m1\u001b[0m\u001b[1;33m,\u001b[0m\u001b[1;36m1\u001b[0m\u001b[1;33m)\u001b[0m\u001b[1;33m)\u001b[0m \u001b[1;31m#设置analyzer为char，构建字向量\u001b[0m\u001b[1;33m\u001b[0m\u001b[1;33m\u001b[0m\u001b[0m\n\u001b[1;32m----> 4\u001b[1;33m \u001b[0mtv\u001b[0m\u001b[1;33m.\u001b[0m\u001b[0mfit\u001b[0m\u001b[1;33m(\u001b[0m\u001b[0mget_text\u001b[0m\u001b[1;33m(\u001b[0m\u001b[0mtrain_data_shortened\u001b[0m\u001b[1;33m)\u001b[0m\u001b[1;33m)\u001b[0m\u001b[1;33m\u001b[0m\u001b[1;33m\u001b[0m\u001b[0m\n\u001b[0m\u001b[0;32m      5\u001b[0m \u001b[0mprint\u001b[0m\u001b[1;33m(\u001b[0m\u001b[1;34m\"TfidfVectorizer generated as tv！\"\u001b[0m\u001b[1;33m)\u001b[0m\u001b[1;33m\u001b[0m\u001b[1;33m\u001b[0m\u001b[0m\n\u001b[0;32m      6\u001b[0m \u001b[1;33m\u001b[0m\u001b[0m\n",
      "\u001b[1;31mNameError\u001b[0m: name 'train_data_shortened' is not defined"
     ]
    }
   ],
   "source": [
    "from sklearn.feature_extraction.text import TfidfVectorizer\n",
    "\n",
    "tv = TfidfVectorizer(analyzer='char', max_features=20000,ngram_range=(1,1)) #设置analyzer为char，构建字向量 \n",
    "tv.fit(get_text(train_data_shortened))\n",
    "print(\"TfidfVectorizer generated as tv！\")\n",
    "\n",
    "def tfIdf_Vectorize(x):\n",
    "    x_vectorized = tv.transform(x)\n",
    "    \n",
    "    return x_vectorized"
   ]
  },
  {
   "cell_type": "code",
   "execution_count": null,
   "metadata": {
    "id": "tZazwyXWG0Ct"
   },
   "outputs": [],
   "source": [
    "x_train_vectorized = tfIdf_Vectorize(x_train)\n",
    "x_dev_vectorized = tfIdf_Vectorize(x_dev)"
   ]
  },
  {
   "cell_type": "markdown",
   "metadata": {
    "id": "gH1A64ueEGb9"
   },
   "source": [
    "## 方法2：词嵌入(Word2Vec)——引入预训练模型[请勿运行]\n",
    "\n",
    "[word2vec模型链接](https://github.com/Embedding/Chinese-Word-Vectors)\n",
    "\n",
    "下载的是Word + Character + Ngram\n",
    "\n",
    "**还没有跑通**"
   ]
  },
  {
   "cell_type": "code",
   "execution_count": 9,
   "metadata": {},
   "outputs": [
    {
     "name": "stderr",
     "output_type": "stream",
     "text": [
      "C:\\ana\\lib\\site-packages\\ipykernel_launcher.py:4: DeprecationWarning: Call to deprecated `wv` (Attribute will be removed in 4.0.0, use self instead).\n",
      "  after removing the cwd from sys.path.\n",
      "C:\\ana\\lib\\site-packages\\ipykernel_launcher.py:6: DeprecationWarning: Call to deprecated `wv` (Attribute will be removed in 4.0.0, use self instead).\n",
      "  \n"
     ]
    }
   ],
   "source": [
    "import gensim\n",
    "## 1 导入 预训练的词向量\n",
    "myPath = './data/sgns.wiki.char.bz2' # 本地词向量的地址\n",
    "Word2VecModel = gensim.models.KeyedVectors.load_word2vec_format(myPath).wv # 读取词向量，以二进制读取\n",
    "\n",
    "vector = Word2VecModel.wv['空间']  # 词语的向量，是numpy格式"
   ]
  },
  {
   "cell_type": "code",
   "execution_count": 48,
   "metadata": {},
   "outputs": [
    {
     "name": "stdout",
     "output_type": "stream",
     "text": [
      "<class 'gensim.models.keyedvectors.Word2VecKeyedVectors'>\n",
      "，\n",
      "Vocab(count:352221, index:0)\n"
     ]
    },
    {
     "name": "stderr",
     "output_type": "stream",
     "text": [
      "C:\\ana\\lib\\site-packages\\ipykernel_launcher.py:1: DeprecationWarning: Call to deprecated `wv` (Attribute will be removed in 4.0.0, use self instead).\n",
      "  \"\"\"Entry point for launching an IPython kernel.\n",
      "C:\\ana\\lib\\site-packages\\ipykernel_launcher.py:3: DeprecationWarning: Call to deprecated `wv` (Attribute will be removed in 4.0.0, use self instead).\n",
      "  This is separate from the ipykernel package so we can avoid doing imports until\n"
     ]
    }
   ],
   "source": [
    "print(type(Word2VecModel.wv)) # 结果为：Word2VecKeyedVectors\n",
    "\n",
    "for i,j in Word2VecModel.wv.vocab.items():\n",
    "    print(i) # 此时 i 代表每个单词\n",
    "    print(j) # j 代表封装了 词频 等信息的 gensim“Vocab”对象\n",
    "    break"
   ]
  },
  {
   "cell_type": "code",
   "execution_count": 49,
   "metadata": {},
   "outputs": [
    {
     "name": "stderr",
     "output_type": "stream",
     "text": [
      "C:\\ana\\lib\\site-packages\\ipykernel_launcher.py:2: DeprecationWarning: Call to deprecated `wv` (Attribute will be removed in 4.0.0, use self instead).\n",
      "  \n"
     ]
    }
   ],
   "source": [
    "## 2 构造包含所有词语的 list，以及初始化 “词语-序号”字典 和 “词向量”矩阵\n",
    "vocab_list = [word for word, Vocab in Word2VecModel.wv.vocab.items()]# 存储 所有的 词语\n",
    "\n",
    "word_index = {\" \": 0}# 初始化 `[word : token]` ，后期 tokenize 语料库就是用该词典。\n",
    "word_vector = {} # 初始化`[word : vector]`字典\n",
    "\n",
    "# 初始化存储所有向量的大矩阵，留意其中多一位（首行），词向量全为 0，用于 padding补零。\n",
    "# 行数 为 所有单词数+1 比如 10000+1 ； 列数为 词向量“维度”比如100。\n",
    "embeddings_matrix = np.zeros((len(vocab_list) + 1, Word2VecModel.vector_size))"
   ]
  },
  {
   "cell_type": "code",
   "execution_count": 12,
   "metadata": {},
   "outputs": [
    {
     "name": "stderr",
     "output_type": "stream",
     "text": [
      "C:\\ana\\lib\\site-packages\\ipykernel_launcher.py:6: DeprecationWarning: Call to deprecated `wv` (Attribute will be removed in 4.0.0, use self instead).\n",
      "  \n",
      "C:\\ana\\lib\\site-packages\\ipykernel_launcher.py:7: DeprecationWarning: Call to deprecated `wv` (Attribute will be removed in 4.0.0, use self instead).\n",
      "  import sys\n"
     ]
    }
   ],
   "source": [
    "## 3 填充 上述 的字典 和 大矩阵\n",
    "for i in range(len(vocab_list)):\n",
    "    # print(i)\n",
    "    word = vocab_list[i]  # 每个词语\n",
    "    word_index[word] = i + 1 # 词语：序号\n",
    "    word_vector[word] = Word2VecModel.wv[word] # 词语：词向量\n",
    "    embeddings_matrix[i + 1] = Word2VecModel.wv[word]  # 词向量矩阵\n",
    "\n",
    "np.save('x_word_index.npy', word_index)"
   ]
  },
  {
   "cell_type": "code",
   "execution_count": 13,
   "metadata": {},
   "outputs": [
    {
     "name": "stdout",
     "output_type": "stream",
     "text": [
      "1080\n"
     ]
    }
   ],
   "source": [
    "print(word_index['得'])"
   ]
  },
  {
   "cell_type": "code",
   "execution_count": 14,
   "metadata": {},
   "outputs": [
    {
     "name": "stderr",
     "output_type": "stream",
     "text": [
      "Using TensorFlow backend.\n"
     ]
    },
    {
     "name": "stdout",
     "output_type": "stream",
     "text": [
      "[[   11  4885  1352  4903 33430     0     0     0     0     0     0     0\n",
      "      0     0     0     0     0     0     0     0     0     0     0     0\n",
      "      0     0     0     0     0     0     0     0     0     0     0     0\n",
      "      0     0     0     0]]\n"
     ]
    }
   ],
   "source": [
    "from keras.preprocessing import sequence\n",
    "# 序号化 文本，tokenizer句子，并返回每个句子所对应的词语索引\n",
    "MAX_SEQUENCE_LENGTH=40\n",
    "# 由于将词语转化为索引的word_index需要与词向量模型对齐，故在导入词向量模型后再将X进行处理\n",
    "def tokenizer(texts, word_index):\n",
    "    data = []\n",
    "    for sentence in texts:\n",
    "        new_sentence = []\n",
    "        for word in sentence:\n",
    "            try:\n",
    "                new_sentence.append(word_index[word])  # 把文本中的 词语转化为index\n",
    "            except:\n",
    "                new_sentence.append(0)\n",
    "            \n",
    "        data.append(new_sentence)\n",
    "    # 使用kears的内置函数padding对齐句子,好处是输出numpy数组，不用自己转化了\n",
    "    data = sequence.pad_sequences(data, maxlen = MAX_SEQUENCE_LENGTH, padding='post', truncating='post')\n",
    "    \n",
    "    return data\n",
    "\n",
    "x_train_wiki = tokenizer(x_train, word_index)\n",
    "x_test_wiki = tokenizer(x_dev, word_index)\n",
    "\n",
    "print(x_train_wiki[:1])"
   ]
  },
  {
   "cell_type": "code",
   "execution_count": 50,
   "metadata": {},
   "outputs": [
    {
     "name": "stdout",
     "output_type": "stream",
     "text": [
      "['一声初报晓'] [[1, 1, 1, 1, 1, 0, 0, 0, 0, 0, 0, 0, 0, 0, 0, 0, 0, 0, 0, 0, 0, 0, 0, 0, 0, 0, 0, 0, 0, 0, 0, 0, 0, 0, 0, 0, 0, 0, 0, 0]]\n",
      "40\n"
     ]
    }
   ],
   "source": [
    "def get_indices(list_x):\n",
    "  x_train_indices = []\n",
    "  for row in list_x:\n",
    "    row_indices = []\n",
    "    for char in row:\n",
    "      try:row_indices.append(word_index[char])\n",
    "      except:row_indices.append(1) # 字典中不存在该字\n",
    "    for i in range(len(row_indices),40):\n",
    "      row_indices.append(0)\n",
    "    x_train_indices.append(row_indices)\n",
    "  return x_train_indices\n",
    "\n",
    "x_train_wiki = get_indices(x_train)\n",
    "x_dev_wiki = get_indices(x_dev)\n",
    "\n",
    "print(x_train[:1],x_train_wiki[:1])\n",
    "print(len(x_train_wiki[0]))"
   ]
  },
  {
   "cell_type": "markdown",
   "metadata": {
    "colab": {
     "base_uri": "https://localhost:8080/",
     "height": 356
    },
    "executionInfo": {
     "elapsed": 3928,
     "status": "error",
     "timestamp": 1605845675197,
     "user": {
      "displayName": "Mario Plumber",
      "photoUrl": "",
      "userId": "15447310660380136818"
     },
     "user_tz": -480
    },
    "id": "HfTa2b2mJ_8k",
    "outputId": "3f3aba99-f7be-4c23-ecd0-d699471bf259"
   },
   "source": [
    "\n",
    "myPath = '../data/merge_sgns_bigram_char300.txt' # 本地词向量的地址\n",
    "Word2VecModel = gensim.models.KeyedVectors.load_word2vec_format(myPath) # 读取词向量，以二进制读取\n"
   ]
  },
  {
   "cell_type": "markdown",
   "metadata": {
    "colab": {
     "base_uri": "https://localhost:8080/"
    },
    "executionInfo": {
     "elapsed": 873,
     "status": "ok",
     "timestamp": 1605675575469,
     "user": {
      "displayName": "Mario Plumber",
      "photoUrl": "",
      "userId": "15447310660380136818"
     },
     "user_tz": -480
    },
    "id": "hekc4BicMIhD",
    "outputId": "4ab17e83-90da-48bd-c7b0-f6b54984abe9"
   },
   "source": [
    "# vector = Word2VecModel['噫']  # 词语的向量，是numpy格式\n",
    "import numpy as np\n",
    "print(Word2VecModel['意'])"
   ]
  },
  {
   "cell_type": "markdown",
   "metadata": {
    "colab": {
     "base_uri": "https://localhost:8080/",
     "height": 243
    },
    "executionInfo": {
     "elapsed": 1729,
     "status": "error",
     "timestamp": 1605858677997,
     "user": {
      "displayName": "Mario Plumber",
      "photoUrl": "",
      "userId": "15447310660380136818"
     },
     "user_tz": -480
    },
    "id": "QQPFNwMWOM__",
    "outputId": "bed86101-8036-4ea4-9cb2-98417a0f8f8f"
   },
   "source": [
    "vocab_list = [char for char, Vocab in Word2VecModel.vocab.items()]\n",
    "char_index = { \"\" : 0 }\n",
    "char_vector = {}\n",
    "embedding_matrix = np.zeros((len(vocab_list)+1,Word2VecModel.vector_size))\n",
    "\n",
    "for i in range(len(vocab_list)):\n",
    "  char = vocab_list[i]\n",
    "  char_index[char] = i + 1\n",
    "  char_vector[char] = Word2VecModel[char]\n",
    "  embedding_matrix[i+1] = Word2VecModel[char]\n"
   ]
  },
  {
   "cell_type": "markdown",
   "metadata": {
    "id": "rxT2yylvdc3Z"
   },
   "source": [
    "def char_tokenize(textlist,char_index):\n",
    "  data = np.zeros((len(textlist),40))\n",
    "  i = 0\n",
    "  j = 0\n",
    "  for sentence in textlist:\n",
    "    for char in sentence:\n",
    "      try:data[i][j] = char_index[char]\n",
    "      except:data[i][j] = 0 # 字典找不到的情况填充0\n",
    "      j += 1\n",
    "    i += 1\n",
    "    j = 0\n",
    "  return data"
   ]
  },
  {
   "cell_type": "markdown",
   "metadata": {
    "id": "ORx4B8NSgdBU"
   },
   "source": [
    "x_train_vectorized = char_tokenize(x_train,char_index)\n",
    "x_dev_vectorized = char_tokenize(x_dev,char_index)"
   ]
  },
  {
   "cell_type": "markdown",
   "metadata": {
    "id": "1aXWlXokfLpZ"
   },
   "source": [
    "## 方法3： 不引入预训练模型，依赖现有语料构建字索引表\n",
    "\n",
    "**结果较差，还有优化空间**"
   ]
  },
  {
   "cell_type": "code",
   "execution_count": 64,
   "metadata": {
    "executionInfo": {
     "elapsed": 2511,
     "status": "ok",
     "timestamp": 1606307105089,
     "user": {
      "displayName": "Mario Plumber",
      "photoUrl": "",
      "userId": "15447310660380136818"
     },
     "user_tz": -480
    },
    "id": "KgQ2XZlMfpZJ"
   },
   "outputs": [],
   "source": [
    "vocablist = []\n",
    "for sentence in x_train:\n",
    "  for char in sentence:\n",
    "    vocablist.append(char)\n",
    "vocablist = list(set(vocablist))\n",
    "\n",
    "# print(len(vocablist)) #18000 -10744\n",
    "\n",
    "char2index = {'padding':0,'':1}\n",
    "index2char = {0:'padding',1:''}\n",
    "for index,char in enumerate(vocablist):\n",
    "  char2index[char] = index\n",
    "  index2char[index] = char"
   ]
  },
  {
   "cell_type": "code",
   "execution_count": 81,
   "metadata": {
    "colab": {
     "base_uri": "https://localhost:8080/"
    },
    "executionInfo": {
     "elapsed": 4503,
     "status": "ok",
     "timestamp": 1606307111551,
     "user": {
      "displayName": "Mario Plumber",
      "photoUrl": "",
      "userId": "15447310660380136818"
     },
     "user_tz": -480
    },
    "id": "YgWgYyCrhYAt",
    "outputId": "fd90d2c4-a5ed-4a53-f975-a4260db85c25"
   },
   "outputs": [
    {
     "name": "stdout",
     "output_type": "stream",
     "text": [
      "['一声初报晓'] [[6747, 5412, 7090, 150, 4354, 0, 0, 0, 0, 0, 0, 0, 0, 0, 0, 0, 0, 0, 0, 0, 0, 0, 0, 0, 0, 0, 0, 0, 0, 0, 0, 0, 0, 0, 0, 0, 0, 0, 0, 0]]\n",
      "40\n"
     ]
    }
   ],
   "source": [
    "def get_indices(list_x):\n",
    "  x_train_indices = []\n",
    "  for row in list_x:\n",
    "    row_indices = []\n",
    "    for char in row:\n",
    "      try:row_indices.append(char2index[char])\n",
    "      except:row_indices.append(1) # 字典中不存在该字\n",
    "    for i in range(len(row_indices),40):\n",
    "      row_indices.append(0)\n",
    "    x_train_indices.append(row_indices)\n",
    "  return x_train_indices\n",
    "\n",
    "x_train_indices = get_indices(x_train)\n",
    "x_dev_indices = get_indices(x_dev)\n",
    "\n",
    "print(x_train[:1],x_train_indices[:1])\n",
    "print(len(x_train_indices[0]))"
   ]
  },
  {
   "cell_type": "markdown",
   "metadata": {
    "id": "ZKkcfVFJEZMU"
   },
   "source": [
    "## y标签处理"
   ]
  },
  {
   "cell_type": "code",
   "execution_count": 51,
   "metadata": {
    "colab": {
     "base_uri": "https://localhost:8080/"
    },
    "executionInfo": {
     "elapsed": 761,
     "status": "ok",
     "timestamp": 1606307113971,
     "user": {
      "displayName": "Mario Plumber",
      "photoUrl": "",
      "userId": "15447310660380136818"
     },
     "user_tz": -480
    },
    "id": "dXOWigXsPMeL",
    "outputId": "7b2fc6fb-f4f8-40a3-f634-28971bd616f0"
   },
   "outputs": [
    {
     "name": "stdout",
     "output_type": "stream",
     "text": [
      "63480\n",
      "63480\n"
     ]
    }
   ],
   "source": [
    "def encode_y(y):\n",
    "  y_o = []\n",
    "  for label in y:\n",
    "      if label ==\"modern\":\n",
    "        y_o.append(0)\n",
    "      elif label ==\"ci\":\n",
    "        y_o.append(1)\n",
    "      elif label ==\"poet\":\n",
    "        y_o.append(2)\n",
    "      elif label ==\"classical\":\n",
    "        y_o.append(3)\n",
    "  return y_o\n",
    "\n",
    "y_train_encoded = encode_y(y_train)\n",
    "y_dev_encoded = encode_y(y_dev)\n",
    "# del y_train\n",
    "# del y_dev\n",
    "\n",
    "print(len(y_train_encoded))\n",
    "print(len(x_train_wiki))"
   ]
  },
  {
   "cell_type": "code",
   "execution_count": 64,
   "metadata": {
    "colab": {
     "base_uri": "https://localhost:8080/"
    },
    "executionInfo": {
     "elapsed": 2630,
     "status": "ok",
     "timestamp": 1606307118408,
     "user": {
      "displayName": "Mario Plumber",
      "photoUrl": "",
      "userId": "15447310660380136818"
     },
     "user_tz": -480
    },
    "id": "OUl2_MzC3QEL",
    "outputId": "50db44da-55b0-4878-faee-152d703f5a4b"
   },
   "outputs": [
    {
     "name": "stdout",
     "output_type": "stream",
     "text": [
      "63480\n",
      "63480\n"
     ]
    }
   ],
   "source": [
    "class Dataset(Dataset):\n",
    "    def __init__(self,x,y):\n",
    "        self.x = x\n",
    "        self.y = y\n",
    "    \n",
    "    def __len__(self):\n",
    "        return len(self.x)\n",
    "    \n",
    "    def __getitem__(self,idx):\n",
    "        return self.x[idx],self.y[idx]\n",
    "print(len(x_train_wiki))\n",
    "print(len(y_train_encoded))\n",
    "train_DL = DataLoader(Dataset(np.array(x_train_wiki),np.array(y_train_encoded)),batch_size=3000,shuffle=True) #需要转置为array，否则多维会出现转置问题\n",
    "# train_DL = DataLoader(Dataset(x,y_train_encoded),batch_size=128,shuffle=True)\n",
    "dev_DL = DataLoader(Dataset(np.array(x_dev_wiki),np.array(y_dev_encoded)),batch_size=3000,shuffle=True)"
   ]
  },
  {
   "cell_type": "code",
   "execution_count": 65,
   "metadata": {},
   "outputs": [
    {
     "name": "stdout",
     "output_type": "stream",
     "text": [
      "22\n"
     ]
    }
   ],
   "source": [
    "print(len(train_DL))"
   ]
  },
  {
   "cell_type": "markdown",
   "metadata": {
    "id": "VesB-iEEDfjM"
   },
   "source": [
    "# 网络搭建\n",
    "\n",
    "在外部将词index序列进行embedding后传入网络\n",
    "\n",
    "## 网络结构\n",
    "\n",
    "* Embedding\n",
    "\n",
    "* GRU\n",
    "\n",
    "* Linear\n",
    "\n"
   ]
  },
  {
   "cell_type": "code",
   "execution_count": 66,
   "metadata": {
    "executionInfo": {
     "elapsed": 836,
     "status": "ok",
     "timestamp": 1606307140828,
     "user": {
      "displayName": "Mario Plumber",
      "photoUrl": "",
      "userId": "15447310660380136818"
     },
     "user_tz": -480
    },
    "id": "BXLJroekPMfO"
   },
   "outputs": [],
   "source": [
    "\n",
    "USE_CUDA = torch.cuda.is_available()\n",
    "device = torch.device(\"cuda\" if USE_CUDA else \"cpu\")\n",
    "\n",
    "class CharRNN(nn.Module):\n",
    "    def __init__(self,input_size, embed_size, hidden_size, output_size):\n",
    "        super(CharRNN, self).__init__()\n",
    "        self.embed_size = embed_size\n",
    "        self.hidden_size = hidden_size\n",
    "        self.output_size = output_size\n",
    "\n",
    "        self.embedding = nn.Embedding(input_size,embed_size,padding_idx=0)\n",
    "        self.gru = nn.GRU(embed_size, hidden_size, 1, batch_first=True)\n",
    "        self.liner = nn.Linear(hidden_size, output_size)\n",
    "\n",
    "    def train(self,train_DL):\n",
    "        train_loss = 0\n",
    "        train_accuracy = 0\n",
    "        number=0\n",
    "        for i,(x,y) in enumerate(train_DL):\n",
    "            x=x.long()\n",
    "            y=y.long()\n",
    "            number=number+1\n",
    "            print(number)\n",
    "            #print(type(x))\n",
    "            x = x.to(device)\n",
    "            y = y.to(device)\n",
    "            output = model(x)\n",
    "            loss = criterion(output,y)\n",
    "            train_loss += loss.item()\n",
    "            loss.backward()\n",
    "            optimizer.step()\n",
    "            train_accuracy += (output.argmax(1) == y).sum().item()\n",
    "        scheduler.step()\n",
    "\n",
    "        return train_loss / len(x_train_wiki) , train_accuracy / len(x_train_wiki)\n",
    "\n",
    "    def test(self,test_DL):\n",
    "        loss = 0\n",
    "        acc = 0\n",
    "        for i,(x,y) in enumerate(test_DL):\n",
    "            x=x.long()\n",
    "            y=y.long()\n",
    "            x = x.to(device)\n",
    "            y = y.to(device)\n",
    "        with torch.no_grad():\n",
    "            output = model(x)\n",
    "            loss = criterion(output,y)\n",
    "            loss += loss.item()\n",
    "            acc += (output.argmax(1) == y).sum().item()    \n",
    "        return loss / len(x_dev_wiki), acc / len(x_dev_wiki)\n",
    "\n",
    "    def forward(self, input):\n",
    "        embedded = self.embedding(input)\n",
    "        h0 = torch.zeros(1, len(embedded), self.hidden_size, device=device) # 初始hidden state\n",
    "        output, hidden = self.gru(embedded, h0)\n",
    "        output = output[:, -1, :] # 只使用最终时刻的输出作为特征\n",
    "        output = self.liner(output)\n",
    "        output = F.softmax(output, dim=1)\n",
    "        return output\n",
    "\n"
   ]
  },
  {
   "cell_type": "code",
   "execution_count": 69,
   "metadata": {
    "colab": {
     "base_uri": "https://localhost:8080/"
    },
    "id": "ddIbiHtrQzj4",
    "outputId": "f7140e71-ecca-4169-c972-ada999122ed8",
    "scrolled": true
   },
   "outputs": [
    {
     "name": "stdout",
     "output_type": "stream",
     "text": [
      "1\n",
      "2\n",
      "3\n",
      "4\n",
      "5\n",
      "6\n",
      "7\n",
      "8\n",
      "9\n",
      "10\n",
      "11\n",
      "12\n",
      "13\n",
      "14\n",
      "15\n",
      "16\n",
      "17\n",
      "18\n",
      "19\n",
      "20\n",
      "21\n",
      "22\n",
      "Epoch1/10.\n",
      "Result:\n",
      "[Train]loss:0.0004543772886290667,accuracy:0.4310176433522369\n",
      "[Test]  LOSS:0.0006295433850027621,ACCURACY:0.08015580155801558\n",
      "\n",
      "1\n",
      "2\n",
      "3\n",
      "4\n",
      "5\n",
      "6\n",
      "7\n",
      "8\n",
      "9\n",
      "10\n",
      "11\n",
      "12\n",
      "13\n",
      "14\n",
      "15\n",
      "16\n",
      "17\n",
      "18\n",
      "19\n",
      "20\n",
      "21\n",
      "22\n",
      "Epoch2/10.\n",
      "Result:\n",
      "[Train]loss:0.0004520822919684532,accuracy:0.43950850661625707\n",
      "[Test]  LOSS:0.0006323815323412418,ACCURACY:0.07749077490774908\n",
      "\n",
      "1\n",
      "2\n",
      "3\n"
     ]
    },
    {
     "ename": "KeyboardInterrupt",
     "evalue": "",
     "output_type": "error",
     "traceback": [
      "\u001b[1;31m---------------------------------------------------------------------------\u001b[0m",
      "\u001b[1;31mKeyboardInterrupt\u001b[0m                         Traceback (most recent call last)",
      "\u001b[1;32m<ipython-input-69-2d2b314c6e4d>\u001b[0m in \u001b[0;36m<module>\u001b[1;34m\u001b[0m\n\u001b[0;32m     14\u001b[0m \u001b[1;32mfor\u001b[0m \u001b[0mi\u001b[0m \u001b[1;32min\u001b[0m \u001b[0mrange\u001b[0m\u001b[1;33m(\u001b[0m\u001b[0mEPOCHES\u001b[0m\u001b[1;33m)\u001b[0m\u001b[1;33m:\u001b[0m\u001b[1;33m\u001b[0m\u001b[1;33m\u001b[0m\u001b[0m\n\u001b[0;32m     15\u001b[0m \u001b[1;33m\u001b[0m\u001b[0m\n\u001b[1;32m---> 16\u001b[1;33m     \u001b[0mloss\u001b[0m\u001b[1;33m,\u001b[0m \u001b[0maccuracy\u001b[0m \u001b[1;33m=\u001b[0m \u001b[0mmodel\u001b[0m\u001b[1;33m.\u001b[0m\u001b[0mtrain\u001b[0m\u001b[1;33m(\u001b[0m\u001b[0mtrain_DL\u001b[0m\u001b[1;33m)\u001b[0m\u001b[1;33m\u001b[0m\u001b[1;33m\u001b[0m\u001b[0m\n\u001b[0m\u001b[0;32m     17\u001b[0m \u001b[1;33m\u001b[0m\u001b[0m\n\u001b[0;32m     18\u001b[0m     \u001b[0mhistory_epoches\u001b[0m\u001b[1;33m.\u001b[0m\u001b[0mappend\u001b[0m\u001b[1;33m(\u001b[0m\u001b[0mstr\u001b[0m\u001b[1;33m(\u001b[0m\u001b[0mi\u001b[0m\u001b[1;33m+\u001b[0m\u001b[1;36m1\u001b[0m\u001b[1;33m)\u001b[0m\u001b[1;33m)\u001b[0m\u001b[1;33m\u001b[0m\u001b[1;33m\u001b[0m\u001b[0m\n",
      "\u001b[1;32m<ipython-input-66-1685e3987adb>\u001b[0m in \u001b[0;36mtrain\u001b[1;34m(self, train_DL)\u001b[0m\n\u001b[0;32m     28\u001b[0m             \u001b[0mloss\u001b[0m \u001b[1;33m=\u001b[0m \u001b[0mcriterion\u001b[0m\u001b[1;33m(\u001b[0m\u001b[0moutput\u001b[0m\u001b[1;33m,\u001b[0m\u001b[0my\u001b[0m\u001b[1;33m)\u001b[0m\u001b[1;33m\u001b[0m\u001b[1;33m\u001b[0m\u001b[0m\n\u001b[0;32m     29\u001b[0m             \u001b[0mtrain_loss\u001b[0m \u001b[1;33m+=\u001b[0m \u001b[0mloss\u001b[0m\u001b[1;33m.\u001b[0m\u001b[0mitem\u001b[0m\u001b[1;33m(\u001b[0m\u001b[1;33m)\u001b[0m\u001b[1;33m\u001b[0m\u001b[1;33m\u001b[0m\u001b[0m\n\u001b[1;32m---> 30\u001b[1;33m             \u001b[0mloss\u001b[0m\u001b[1;33m.\u001b[0m\u001b[0mbackward\u001b[0m\u001b[1;33m(\u001b[0m\u001b[1;33m)\u001b[0m\u001b[1;33m\u001b[0m\u001b[1;33m\u001b[0m\u001b[0m\n\u001b[0m\u001b[0;32m     31\u001b[0m             \u001b[0moptimizer\u001b[0m\u001b[1;33m.\u001b[0m\u001b[0mstep\u001b[0m\u001b[1;33m(\u001b[0m\u001b[1;33m)\u001b[0m\u001b[1;33m\u001b[0m\u001b[1;33m\u001b[0m\u001b[0m\n\u001b[0;32m     32\u001b[0m             \u001b[0mtrain_accuracy\u001b[0m \u001b[1;33m+=\u001b[0m \u001b[1;33m(\u001b[0m\u001b[0moutput\u001b[0m\u001b[1;33m.\u001b[0m\u001b[0margmax\u001b[0m\u001b[1;33m(\u001b[0m\u001b[1;36m1\u001b[0m\u001b[1;33m)\u001b[0m \u001b[1;33m==\u001b[0m \u001b[0my\u001b[0m\u001b[1;33m)\u001b[0m\u001b[1;33m.\u001b[0m\u001b[0msum\u001b[0m\u001b[1;33m(\u001b[0m\u001b[1;33m)\u001b[0m\u001b[1;33m.\u001b[0m\u001b[0mitem\u001b[0m\u001b[1;33m(\u001b[0m\u001b[1;33m)\u001b[0m\u001b[1;33m\u001b[0m\u001b[1;33m\u001b[0m\u001b[0m\n",
      "\u001b[1;32mC:\\ana\\lib\\site-packages\\torch\\tensor.py\u001b[0m in \u001b[0;36mbackward\u001b[1;34m(self, gradient, retain_graph, create_graph)\u001b[0m\n\u001b[0;32m    219\u001b[0m                 \u001b[0mretain_graph\u001b[0m\u001b[1;33m=\u001b[0m\u001b[0mretain_graph\u001b[0m\u001b[1;33m,\u001b[0m\u001b[1;33m\u001b[0m\u001b[1;33m\u001b[0m\u001b[0m\n\u001b[0;32m    220\u001b[0m                 create_graph=create_graph)\n\u001b[1;32m--> 221\u001b[1;33m         \u001b[0mtorch\u001b[0m\u001b[1;33m.\u001b[0m\u001b[0mautograd\u001b[0m\u001b[1;33m.\u001b[0m\u001b[0mbackward\u001b[0m\u001b[1;33m(\u001b[0m\u001b[0mself\u001b[0m\u001b[1;33m,\u001b[0m \u001b[0mgradient\u001b[0m\u001b[1;33m,\u001b[0m \u001b[0mretain_graph\u001b[0m\u001b[1;33m,\u001b[0m \u001b[0mcreate_graph\u001b[0m\u001b[1;33m)\u001b[0m\u001b[1;33m\u001b[0m\u001b[1;33m\u001b[0m\u001b[0m\n\u001b[0m\u001b[0;32m    222\u001b[0m \u001b[1;33m\u001b[0m\u001b[0m\n\u001b[0;32m    223\u001b[0m     \u001b[1;32mdef\u001b[0m \u001b[0mregister_hook\u001b[0m\u001b[1;33m(\u001b[0m\u001b[0mself\u001b[0m\u001b[1;33m,\u001b[0m \u001b[0mhook\u001b[0m\u001b[1;33m)\u001b[0m\u001b[1;33m:\u001b[0m\u001b[1;33m\u001b[0m\u001b[1;33m\u001b[0m\u001b[0m\n",
      "\u001b[1;32mC:\\ana\\lib\\site-packages\\torch\\autograd\\__init__.py\u001b[0m in \u001b[0;36mbackward\u001b[1;34m(tensors, grad_tensors, retain_graph, create_graph, grad_variables)\u001b[0m\n\u001b[0;32m    130\u001b[0m     Variable._execution_engine.run_backward(\n\u001b[0;32m    131\u001b[0m         \u001b[0mtensors\u001b[0m\u001b[1;33m,\u001b[0m \u001b[0mgrad_tensors_\u001b[0m\u001b[1;33m,\u001b[0m \u001b[0mretain_graph\u001b[0m\u001b[1;33m,\u001b[0m \u001b[0mcreate_graph\u001b[0m\u001b[1;33m,\u001b[0m\u001b[1;33m\u001b[0m\u001b[1;33m\u001b[0m\u001b[0m\n\u001b[1;32m--> 132\u001b[1;33m         allow_unreachable=True)  # allow_unreachable flag\n\u001b[0m\u001b[0;32m    133\u001b[0m \u001b[1;33m\u001b[0m\u001b[0m\n\u001b[0;32m    134\u001b[0m \u001b[1;33m\u001b[0m\u001b[0m\n",
      "\u001b[1;31mKeyboardInterrupt\u001b[0m: "
     ]
    }
   ],
   "source": [
    "# %%time\n",
    "model = CharRNN(input_size=len(x_train_wiki),embed_size=300,hidden_size=128,output_size=4)\n",
    "model = model.to(device)\n",
    "history_epoches = []\n",
    "history_loss = []\n",
    "history_accu = []\n",
    "test_loss = []\n",
    "test_accu = []\n",
    "EPOCHES = 10\n",
    "criterion = nn.CrossEntropyLoss().to(device)\n",
    "# optimizer = torch.optim.SGD(self.model.parameters(), lr=0.01)\n",
    "optimizer = torch.optim.Adam(model.parameters(), lr=0.01, betas=(0.9, 0.999), eps=1e-08, weight_decay=1e-06, amsgrad=False)\n",
    "scheduler = torch.optim.lr_scheduler.StepLR(optimizer, 1, gamma=0.9)\n",
    "for i in range(EPOCHES):\n",
    "    \n",
    "    loss, accuracy = model.train(train_DL)\n",
    "    \n",
    "    history_epoches.append(str(i+1))\n",
    "    history_loss.append(loss)\n",
    "    history_accu.append(accuracy)\n",
    "    print(\"Epoch{}/{}.\\nResult:\\n[Train]loss:{},accuracy:{}\".format(i+1,EPOCHES,loss,accuracy))\n",
    "    dev_loss,dev_accu = model.test(dev_DL)\n",
    "    test_loss.append(dev_loss)\n",
    "    test_accu.append(dev_accu)\n",
    "    print(\"[Test]  LOSS:{},ACCURACY:{}\\n\".format(dev_loss,dev_accu))\n"
   ]
  },
  {
   "cell_type": "code",
   "execution_count": 70,
   "metadata": {},
   "outputs": [
    {
     "name": "stdout",
     "output_type": "stream",
     "text": [
      "[0.4310176433522369, 0.43950850661625707]\n"
     ]
    }
   ],
   "source": [
    "print(history_accu)"
   ]
  },
  {
   "cell_type": "code",
   "execution_count": 71,
   "metadata": {
    "colab": {
     "base_uri": "https://localhost:8080/",
     "height": 573
    },
    "executionInfo": {
     "elapsed": 1097,
     "status": "ok",
     "timestamp": 1606299429477,
     "user": {
      "displayName": "Mario Plumber",
      "photoUrl": "",
      "userId": "15447310660380136818"
     },
     "user_tz": -480
    },
    "id": "V73TatGHfHPO",
    "outputId": "cfb37f06-53a9-434d-a18c-ff546b99be55"
   },
   "outputs": [
    {
     "data": {
      "image/png": "[encoded data removed]",
      "text/plain": [
       "<Figure size 432x288 with 2 Axes>"
      ]
     },
     "metadata": {
      "needs_background": "light"
     },
     "output_type": "display_data"
    },
    {
     "data": {
      "image/png": "[encoded data removed]",
      "text/plain": [
       "<Figure size 432x288 with 2 Axes>"
      ]
     },
     "metadata": {
      "needs_background": "light"
     },
     "output_type": "display_data"
    }
   ],
   "source": [
    "%matplotlib inline\n",
    "\n",
    "def plot_history(epoch,loss,accuracy,title):\n",
    "    x = epoch\n",
    "    y1 = loss\n",
    "    y2 = accuracy\n",
    "    fig,ax1 = plt.subplots()\n",
    "    ax1.plot(x,y1,'r',label=title+'_loss')\n",
    "    ax1.set_ylabel('Loss:Epoch')\n",
    "    ax2 = ax1.twinx()\n",
    "    ax2.plot(x,y2,'b',label=title+'_accu')\n",
    "    ax2.set_ylabel('Accuracy:Epoch')\n",
    "    ax2.set_xlabel('Epoches')\n",
    "    fig.legend(loc=\"upper right\", bbox_to_anchor=(1, 1))\n",
    "    plt.show()\n",
    "plot_history(history_epoches,history_loss,history_accu,title='Train')\n",
    "plot_history(history_epoches,history_loss,history_accu,title='Test')"
   ]
  },
  {
   "cell_type": "markdown",
   "metadata": {
    "id": "-eVFcFrI6Mkw"
   },
   "source": [
    "> **训练集、测试集loss容易出现的问题总结**\n",
    ">\n",
    ">* train loss不断下降，test loss不断下降:说明网络仍在学习;\n",
    ">* train loss 不断下降，test loss趋于不变:说明网络过拟合;\n",
    ">* train loss趋于不变，test loss不断下降:说明数据集100%有问题;\n",
    ">* train loss趋于不变,test loss趋于不变:说明学习遇到瓶颈，需要减小学习率或批量数目;或者是数据集有问题(数据集标注错误数据比较多)\n",
    ">* train loss 不断上升，test loss不断上升:说明网络结构设计不当，训练超参数设置不当，数据集经过清洗等问题。\n"
   ]
  }
 ],
 "metadata": {
  "accelerator": "GPU",
  "colab": {
   "collapsed_sections": [
    "LpExmv9tBvKL",
    "gH1A64ueEGb9"
   ],
   "name": "rnn_model_1.ipynb",
   "provenance": []
  },
  "kernelspec": {
   "display_name": "Python 3",
   "language": "python",
   "name": "python3"
  },
  "language_info": {
   "codemirror_mode": {
    "name": "ipython",
    "version": 3
   },
   "file_extension": ".py",
   "mimetype": "text/x-python",
   "name": "python",
   "nbconvert_exporter": "python",
   "pygments_lexer": "ipython3",
   "version": "3.7.3"
  }
 },
 "nbformat": 4,
 "nbformat_minor": 1
}
