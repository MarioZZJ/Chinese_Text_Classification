{
  "nbformat": 4,
  "nbformat_minor": 0,
  "metadata": {
    "accelerator": "GPU",
    "colab": {
      "name": "Bert_model2.0",
      "provenance": [],
      "collapsed_sections": [],
      "machine_shape": "hm"
    },
    "kernelspec": {
      "display_name": "Python 3",
      "language": "python",
      "name": "python3"
    },
    "language_info": {
      "codemirror_mode": {
        "name": "ipython",
        "version": 3
      },
      "file_extension": ".py",
      "mimetype": "text/x-python",
      "name": "python",
      "nbconvert_exporter": "python",
      "pygments_lexer": "ipython3",
      "version": "3.7.3"
    }
  },
  "cells": [
    {
      "cell_type": "markdown",
      "metadata": {
        "id": "D_Zf8gMU6SRm"
      },
      "source": [
        "# 准备工作\n",
        "## \\* Google Colab 部署使用\n",
        "\n",
        "利用Google Colab可获取12GB RAM和8G GPU运算资源，减轻本地计算机负担。由于Colab是在服务器虚拟机上运行，不能和本地文件相连，因此需要将数据文件上传。而由于Colab的不稳定性，虚拟机在用户退出使用或遭到意外时会立即销毁，因此需要将文件上传到谷歌硬盘而非虚拟机。接下来的操作可以**让虚拟机在运行时连接到自己的谷歌硬盘**。\n",
        "\n",
        "如果您是在本地计算机运行程序，请**不要运行**接下来的代码块。\n",
        "\n"
      ]
    },
    {
      "cell_type": "code",
      "metadata": {
        "colab": {
          "base_uri": "https://localhost:8080/"
        },
        "id": "8tI90ej4PRj1",
        "outputId": "baf89cea-b091-4ea8-cca9-4f7280d8e6a3"
      },
      "source": [
        "from google.colab import drive\n",
        "drive.mount('/content/drive')  #连接到谷歌硬盘，会弹出一个链接，点击链接\n",
        "                #并登录您的谷歌账号后，系统将提供一个密码，\n",
        "                #复制到输入框内即可通过验证。\n",
        "\n",
        "import os\n",
        "#os.chdir('/content/drive/MyDrive/Colab Notebooks/Projects/Text Classifier/DeepLearningTrain')\n",
        "os.chdir('/content/drive/MyDrive/Colab Notebooks/Projects/TextMining/Text_Classifier1')\n",
        "# 设定项目默认目录，默认My Drive下是谷歌硬盘根目录，根据实际情况配置。\n",
        "\n",
        "# 接下来就可以使用相对地址了"
      ],
      "execution_count": null,
      "outputs": [
        {
          "output_type": "stream",
          "text": [
            "Mounted at /content/drive\n"
          ],
          "name": "stdout"
        }
      ]
    },
    {
      "cell_type": "markdown",
      "metadata": {
        "id": "0sM1cQly74H_"
      },
      "source": [
        "## 导入本次项目需要用到的包"
      ]
    },
    {
      "cell_type": "code",
      "metadata": {
        "id": "6raVZ5KsPMdd"
      },
      "source": [
        "import sqlite3\n",
        "import numpy as np\n",
        "import pandas as pd\n",
        "from torch.utils.data import Dataset,DataLoader\n",
        "from torch import optim\n",
        "import torch\n",
        "from torch import nn\n",
        "import torch.nn.functional as F\n",
        "import numpy as np\n",
        "import sklearn\n",
        "import string\n",
        "import random\n",
        "import matplotlib.pyplot as plt\n",
        "import re"
      ],
      "execution_count": null,
      "outputs": []
    },
    {
      "cell_type": "markdown",
      "metadata": {
        "id": "ZTF8BLIE8tLY"
      },
      "source": [
        "# 数据读取与预处理\n",
        "\n",
        "## 文本字符串清洗处理"
      ]
    },
    {
      "cell_type": "markdown",
      "metadata": {
        "id": "ku8r3jka8wwH"
      },
      "source": [
        "## 从sqlite3数据库文件读取数据\r\n",
        "\r\n",
        "## 句子分割\r\n",
        "\r\n",
        "使用神经网络进行深度学习时，要求输入的张量必须具有相同的维度，这对张量形状提出了要求。\r\n",
        "\r\n",
        "根据我们先前对文本的总体把握，现代文文本语篇的平均长度要明显大于诗词等，如果本次实验还将语篇作为单个分类的对象，那么对于较短的语料其张量会存在着大量的空标签，造成影响很大的冗余，会大幅降低准确度，提升损失值，同时张量长度的增大也会造成计算的缓慢。因此我们需要转换策略，减少分类文本在字符长度上的悬殊。\r\n",
        "\r\n",
        "我们决定使用句号`。`来切分文本，根据调研，调取各6000条语料，使用句号分割可以获得约25万条句子，而限定长度为40可以获得约23万条句子，较为合理，因此限定长度为40."
      ]
    },
    {
      "cell_type": "code",
      "metadata": {
        "id": "OJYzI7r5PMd1"
      },
      "source": [
        "def load_from_db(num,start):\n",
        "    conn = sqlite3.connect(\"data/database/texts.db\")\n",
        "    # conn = sqlite3.connect(\"data/texts.db\")\n",
        "    print ('Opened database successfully')\n",
        "    c = conn.cursor()\n",
        "    # 数据表结构(id,texts,type,sourceid)\n",
        "    ci_data=[]\n",
        "    cursor = c.execute(\"SELECT * from ci order by id desc limit \"+str(start)+\",\"+str(num))\n",
        "    for row in cursor:\n",
        "        ci_data.append(row)\n",
        "\n",
        "    poet_data = []\n",
        "    cursor=c.execute(\"SELECT * FROM poet order by id desc limit \"+str(start)+\",\"+str(num))\n",
        "    for row in cursor:\n",
        "        poet_data.append(row)\n",
        "\n",
        "    classical_data = []\n",
        "    cursor=c.execute(\"SELECT * FROM classical order by id desc limit \"+str(start)+\",\"+str(num//1.35))\n",
        "    for row in cursor:\n",
        "        classical_data.append(row)\n",
        "\n",
        "    journal_data = []\n",
        "    cursor=c.execute(\"SELECT * FROM journal order by id desc limit \"+str(start)+\",\"+str(num//1.1))\n",
        "    for row in cursor:\n",
        "        journal_data.append(row)\n",
        "    \n",
        "    news_data = []\n",
        "    cursor=c.execute(\"SELECT * FROM news order by id asc limit \"+str(start)+\",\"+str(num//1.1))\n",
        "    for row in cursor:\n",
        "        news_data.append(row)\n",
        "\n",
        "    print(\"所有类型数据读取成功，每类的条数：\"+str(num))\n",
        "    conn.close()\n",
        "    data = ci_data + poet_data + classical_data + journal_data + news_data\n",
        "\n",
        "    df = pd.DataFrame(data)\n",
        "    df.rename(columns={0:'id',1:'texts',2:'type',3:'sourceid'},inplace=True)\n",
        "    # 仅保留text中的字母数字汉字和句号\n",
        "    df['texts'] = df['texts'].apply(lambda x:re.sub(u\"[^a-zA-Z0-9\\u4E00-\\u9FA5。]\",\"\",x))\n",
        "    df = df.drop(['id','sourceid'],axis=1)\n",
        "    #expand设为True将分出来的句子单独成列\n",
        "    sentences = df['texts'].str.split('。',expand=True).stack().reset_index(level=1,drop=True).rename('sentence') \n",
        "    df = df.drop(['texts'],axis=1).join(sentences)\n",
        "    df = df[(df['sentence'].map(len)>7) & (df['sentence'].map(len)<40)]\n",
        "\n",
        "    return df\n"
      ],
      "execution_count": null,
      "outputs": []
    },
    {
      "cell_type": "code",
      "metadata": {
        "colab": {
          "base_uri": "https://localhost:8080/",
          "height": 1000
        },
        "id": "cGeoEQSqPMeE",
        "outputId": "8bfd0809-17ec-4ef7-cb0c-df57895e1f6a"
      },
      "source": [
        "data = load_from_db(20000,0)\n",
        "display(data[data['type']=='ci'])\n",
        "display(data[data['type']=='poet'])\n",
        "display(data[data['type']=='classical'])\n",
        "display(data[data['type']=='modern'])\n",
        "# test_data = load_from_db(1000,10000)"
      ],
      "execution_count": null,
      "outputs": [
        {
          "output_type": "stream",
          "text": [
            "Opened database successfully\n",
            "所有类型数据读取成功，每类的条数：20000\n"
          ],
          "name": "stdout"
        },
        {
          "output_type": "display_data",
          "data": {
            "text/html": [
              "<div>\n",
              "<style scoped>\n",
              "    .dataframe tbody tr th:only-of-type {\n",
              "        vertical-align: middle;\n",
              "    }\n",
              "\n",
              "    .dataframe tbody tr th {\n",
              "        vertical-align: top;\n",
              "    }\n",
              "\n",
              "    .dataframe thead th {\n",
              "        text-align: right;\n",
              "    }\n",
              "</style>\n",
              "<table border=\"1\" class=\"dataframe\">\n",
              "  <thead>\n",
              "    <tr style=\"text-align: right;\">\n",
              "      <th></th>\n",
              "      <th>type</th>\n",
              "      <th>sentence</th>\n",
              "    </tr>\n",
              "  </thead>\n",
              "  <tbody>\n",
              "    <tr>\n",
              "      <th>2</th>\n",
              "      <td>ci</td>\n",
              "      <td>剪新幡儿斜插真珠髻</td>\n",
              "    </tr>\n",
              "    <tr>\n",
              "      <th>3</th>\n",
              "      <td>ci</td>\n",
              "      <td>露着桂枝晓霜护菊篱秋</td>\n",
              "    </tr>\n",
              "    <tr>\n",
              "      <th>3</th>\n",
              "      <td>ci</td>\n",
              "      <td>无尘玉宇南极一点瑞光浮</td>\n",
              "    </tr>\n",
              "    <tr>\n",
              "      <th>3</th>\n",
              "      <td>ci</td>\n",
              "      <td>崧岳精英瑞世河洛图书寓直琳馆奉宸游</td>\n",
              "    </tr>\n",
              "    <tr>\n",
              "      <th>3</th>\n",
              "      <td>ci</td>\n",
              "      <td>独袖功名手谁与复神州</td>\n",
              "    </tr>\n",
              "    <tr>\n",
              "      <th>...</th>\n",
              "      <td>...</td>\n",
              "      <td>...</td>\n",
              "    </tr>\n",
              "    <tr>\n",
              "      <th>19978</th>\n",
              "      <td>ci</td>\n",
              "      <td>皇图大业超前古垂象泰阶平</td>\n",
              "    </tr>\n",
              "    <tr>\n",
              "      <th>19978</th>\n",
              "      <td>ci</td>\n",
              "      <td>岁时丰衍九土乐升平</td>\n",
              "    </tr>\n",
              "    <tr>\n",
              "      <th>19978</th>\n",
              "      <td>ci</td>\n",
              "      <td>道高尧舜垂衣治日月并文明</td>\n",
              "    </tr>\n",
              "    <tr>\n",
              "      <th>19978</th>\n",
              "      <td>ci</td>\n",
              "      <td>嘉禾甘露登歌荐云物焕祥经</td>\n",
              "    </tr>\n",
              "    <tr>\n",
              "      <th>19978</th>\n",
              "      <td>ci</td>\n",
              "      <td>兢兢惕惕持谦德未许禅云亭</td>\n",
              "    </tr>\n",
              "  </tbody>\n",
              "</table>\n",
              "<p>77162 rows × 2 columns</p>\n",
              "</div>"
            ],
            "text/plain": [
              "      type           sentence\n",
              "2       ci          剪新幡儿斜插真珠髻\n",
              "3       ci         露着桂枝晓霜护菊篱秋\n",
              "3       ci        无尘玉宇南极一点瑞光浮\n",
              "3       ci  崧岳精英瑞世河洛图书寓直琳馆奉宸游\n",
              "3       ci         独袖功名手谁与复神州\n",
              "...    ...                ...\n",
              "19978   ci       皇图大业超前古垂象泰阶平\n",
              "19978   ci          岁时丰衍九土乐升平\n",
              "19978   ci       道高尧舜垂衣治日月并文明\n",
              "19978   ci       嘉禾甘露登歌荐云物焕祥经\n",
              "19978   ci       兢兢惕惕持谦德未许禅云亭\n",
              "\n",
              "[77162 rows x 2 columns]"
            ]
          },
          "metadata": {
            "tags": []
          }
        },
        {
          "output_type": "display_data",
          "data": {
            "text/html": [
              "<div>\n",
              "<style scoped>\n",
              "    .dataframe tbody tr th:only-of-type {\n",
              "        vertical-align: middle;\n",
              "    }\n",
              "\n",
              "    .dataframe tbody tr th {\n",
              "        vertical-align: top;\n",
              "    }\n",
              "\n",
              "    .dataframe thead th {\n",
              "        text-align: right;\n",
              "    }\n",
              "</style>\n",
              "<table border=\"1\" class=\"dataframe\">\n",
              "  <thead>\n",
              "    <tr style=\"text-align: right;\">\n",
              "      <th></th>\n",
              "      <th>type</th>\n",
              "      <th>sentence</th>\n",
              "    </tr>\n",
              "  </thead>\n",
              "  <tbody>\n",
              "    <tr>\n",
              "      <th>19979</th>\n",
              "      <td>poet</td>\n",
              "      <td>圣祖发神谋灵符叶帝求</td>\n",
              "    </tr>\n",
              "    <tr>\n",
              "      <th>19979</th>\n",
              "      <td>poet</td>\n",
              "      <td>一人光锡命万国荷时休</td>\n",
              "    </tr>\n",
              "    <tr>\n",
              "      <th>19979</th>\n",
              "      <td>poet</td>\n",
              "      <td>雷解圜丘毕云需曲水游</td>\n",
              "    </tr>\n",
              "    <tr>\n",
              "      <th>19979</th>\n",
              "      <td>poet</td>\n",
              "      <td>岸花迎步辇仙仗拥行舟</td>\n",
              "    </tr>\n",
              "    <tr>\n",
              "      <th>19979</th>\n",
              "      <td>poet</td>\n",
              "      <td>睿藻天中降恩波海外流</td>\n",
              "    </tr>\n",
              "    <tr>\n",
              "      <th>...</th>\n",
              "      <td>...</td>\n",
              "      <td>...</td>\n",
              "    </tr>\n",
              "    <tr>\n",
              "      <th>39977</th>\n",
              "      <td>poet</td>\n",
              "      <td>莫怆分飞岐路别还当奏最掖垣来</td>\n",
              "    </tr>\n",
              "    <tr>\n",
              "      <th>39978</th>\n",
              "      <td>poet</td>\n",
              "      <td>直省清华接建章向来无事日犹长</td>\n",
              "    </tr>\n",
              "    <tr>\n",
              "      <th>39978</th>\n",
              "      <td>poet</td>\n",
              "      <td>花间燕子栖鹊竹下鹓雏绕凤皇</td>\n",
              "    </tr>\n",
              "    <tr>\n",
              "      <th>39978</th>\n",
              "      <td>poet</td>\n",
              "      <td>内史通宵承紫诰中人落晚爱红妆</td>\n",
              "    </tr>\n",
              "    <tr>\n",
              "      <th>39978</th>\n",
              "      <td>poet</td>\n",
              "      <td>别离不惯无穷忆莫误卿卿学太常</td>\n",
              "    </tr>\n",
              "  </tbody>\n",
              "</table>\n",
              "<p>87997 rows × 2 columns</p>\n",
              "</div>"
            ],
            "text/plain": [
              "       type        sentence\n",
              "19979  poet      圣祖发神谋灵符叶帝求\n",
              "19979  poet      一人光锡命万国荷时休\n",
              "19979  poet      雷解圜丘毕云需曲水游\n",
              "19979  poet      岸花迎步辇仙仗拥行舟\n",
              "19979  poet      睿藻天中降恩波海外流\n",
              "...     ...             ...\n",
              "39977  poet  莫怆分飞岐路别还当奏最掖垣来\n",
              "39978  poet  直省清华接建章向来无事日犹长\n",
              "39978  poet   花间燕子栖鹊竹下鹓雏绕凤皇\n",
              "39978  poet  内史通宵承紫诰中人落晚爱红妆\n",
              "39978  poet  别离不惯无穷忆莫误卿卿学太常\n",
              "\n",
              "[87997 rows x 2 columns]"
            ]
          },
          "metadata": {
            "tags": []
          }
        },
        {
          "output_type": "display_data",
          "data": {
            "text/html": [
              "<div>\n",
              "<style scoped>\n",
              "    .dataframe tbody tr th:only-of-type {\n",
              "        vertical-align: middle;\n",
              "    }\n",
              "\n",
              "    .dataframe tbody tr th {\n",
              "        vertical-align: top;\n",
              "    }\n",
              "\n",
              "    .dataframe thead th {\n",
              "        text-align: right;\n",
              "    }\n",
              "</style>\n",
              "<table border=\"1\" class=\"dataframe\">\n",
              "  <thead>\n",
              "    <tr style=\"text-align: right;\">\n",
              "      <th></th>\n",
              "      <th>type</th>\n",
              "      <th>sentence</th>\n",
              "    </tr>\n",
              "  </thead>\n",
              "  <tbody>\n",
              "    <tr>\n",
              "      <th>39979</th>\n",
              "      <td>classical</td>\n",
              "      <td>徐守仁义社稷邱墟</td>\n",
              "    </tr>\n",
              "    <tr>\n",
              "      <th>39979</th>\n",
              "      <td>classical</td>\n",
              "      <td>鲁尊儒墨宗庙泯灭</td>\n",
              "    </tr>\n",
              "    <tr>\n",
              "      <th>39979</th>\n",
              "      <td>classical</td>\n",
              "      <td>与贵者言依於势贵位高而势制高则位不可以禁势</td>\n",
              "    </tr>\n",
              "    <tr>\n",
              "      <th>39979</th>\n",
              "      <td>classical</td>\n",
              "      <td>与富者言依於物富积财而物可宝则财不足以易宝</td>\n",
              "    </tr>\n",
              "    <tr>\n",
              "      <th>39979</th>\n",
              "      <td>classical</td>\n",
              "      <td>与贫者言依於利贫匮乏而利丰赡则乏不可以賙丰</td>\n",
              "    </tr>\n",
              "    <tr>\n",
              "      <th>...</th>\n",
              "      <td>...</td>\n",
              "      <td>...</td>\n",
              "    </tr>\n",
              "    <tr>\n",
              "      <th>54792</th>\n",
              "      <td>classical</td>\n",
              "      <td>司马缩奠俎于羊湆俎南乃载于羊俎卒载俎缩执俎以降</td>\n",
              "    </tr>\n",
              "    <tr>\n",
              "      <th>54792</th>\n",
              "      <td>classical</td>\n",
              "      <td>次宾羞羊燔缩执俎缩一燔于俎上盐在右</td>\n",
              "    </tr>\n",
              "    <tr>\n",
              "      <th>54792</th>\n",
              "      <td>classical</td>\n",
              "      <td>尸左执爵受燔扌耎于盐坐振祭哜之兴加于羊俎</td>\n",
              "    </tr>\n",
              "    <tr>\n",
              "      <th>54792</th>\n",
              "      <td>classical</td>\n",
              "      <td>尸降筵北面于西楹西坐卒爵执爵以兴坐奠爵拜执爵以兴</td>\n",
              "    </tr>\n",
              "    <tr>\n",
              "      <th>54792</th>\n",
              "      <td>classical</td>\n",
              "      <td>主人北面于东楹东答拜</td>\n",
              "    </tr>\n",
              "  </tbody>\n",
              "</table>\n",
              "<p>104761 rows × 2 columns</p>\n",
              "</div>"
            ],
            "text/plain": [
              "            type                  sentence\n",
              "39979  classical                  徐守仁义社稷邱墟\n",
              "39979  classical                  鲁尊儒墨宗庙泯灭\n",
              "39979  classical     与贵者言依於势贵位高而势制高则位不可以禁势\n",
              "39979  classical     与富者言依於物富积财而物可宝则财不足以易宝\n",
              "39979  classical     与贫者言依於利贫匮乏而利丰赡则乏不可以賙丰\n",
              "...          ...                       ...\n",
              "54792  classical   司马缩奠俎于羊湆俎南乃载于羊俎卒载俎缩执俎以降\n",
              "54792  classical         次宾羞羊燔缩执俎缩一燔于俎上盐在右\n",
              "54792  classical      尸左执爵受燔扌耎于盐坐振祭哜之兴加于羊俎\n",
              "54792  classical  尸降筵北面于西楹西坐卒爵执爵以兴坐奠爵拜执爵以兴\n",
              "54792  classical                主人北面于东楹东答拜\n",
              "\n",
              "[104761 rows x 2 columns]"
            ]
          },
          "metadata": {
            "tags": []
          }
        },
        {
          "output_type": "display_data",
          "data": {
            "text/html": [
              "<div>\n",
              "<style scoped>\n",
              "    .dataframe tbody tr th:only-of-type {\n",
              "        vertical-align: middle;\n",
              "    }\n",
              "\n",
              "    .dataframe tbody tr th {\n",
              "        vertical-align: top;\n",
              "    }\n",
              "\n",
              "    .dataframe thead th {\n",
              "        text-align: right;\n",
              "    }\n",
              "</style>\n",
              "<table border=\"1\" class=\"dataframe\">\n",
              "  <thead>\n",
              "    <tr style=\"text-align: right;\">\n",
              "      <th></th>\n",
              "      <th>type</th>\n",
              "      <th>sentence</th>\n",
              "    </tr>\n",
              "  </thead>\n",
              "  <tbody>\n",
              "    <tr>\n",
              "      <th>54793</th>\n",
              "      <td>modern</td>\n",
              "      <td>2003年卢作孚先生被重庆市民和专家分别评为重庆十大文化名人并均列第一</td>\n",
              "    </tr>\n",
              "    <tr>\n",
              "      <th>54793</th>\n",
              "      <td>modern</td>\n",
              "      <td>专家的评语写道民生公司北碚实验区卢作孚文集其中任一项都足以改变世界</td>\n",
              "    </tr>\n",
              "    <tr>\n",
              "      <th>54795</th>\n",
              "      <td>modern</td>\n",
              "      <td>这也正是他的独特价值所在</td>\n",
              "    </tr>\n",
              "    <tr>\n",
              "      <th>54797</th>\n",
              "      <td>modern</td>\n",
              "      <td>卢作孚留给后人的不仅是他的事业更是他的精神人格力量</td>\n",
              "    </tr>\n",
              "    <tr>\n",
              "      <th>54797</th>\n",
              "      <td>modern</td>\n",
              "      <td>如梁漱溟所说他胸怀高旷公而忘私为而不有庶几乎可与古之贤哲媲美</td>\n",
              "    </tr>\n",
              "    <tr>\n",
              "      <th>...</th>\n",
              "      <td>...</td>\n",
              "      <td>...</td>\n",
              "    </tr>\n",
              "    <tr>\n",
              "      <th>91152</th>\n",
              "      <td>modern</td>\n",
              "      <td>程某继承母业继续贩卖假烟</td>\n",
              "    </tr>\n",
              "    <tr>\n",
              "      <th>91152</th>\n",
              "      <td>modern</td>\n",
              "      <td>记者徐其勇实习生郭永强通讯员严义华</td>\n",
              "    </tr>\n",
              "    <tr>\n",
              "      <th>91153</th>\n",
              "      <td>modern</td>\n",
              "      <td>图为日多名留守儿童在江滩公园进行放纸飞机比赛</td>\n",
              "    </tr>\n",
              "    <tr>\n",
              "      <th>91153</th>\n",
              "      <td>modern</td>\n",
              "      <td>本报视界网邱孝威摄</td>\n",
              "    </tr>\n",
              "    <tr>\n",
              "      <th>91154</th>\n",
              "      <td>modern</td>\n",
              "      <td>编者按美国总统布什将在本月日举行其第二个任期就职典礼</td>\n",
              "    </tr>\n",
              "  </tbody>\n",
              "</table>\n",
              "<p>133465 rows × 2 columns</p>\n",
              "</div>"
            ],
            "text/plain": [
              "         type                             sentence\n",
              "54793  modern  2003年卢作孚先生被重庆市民和专家分别评为重庆十大文化名人并均列第一\n",
              "54793  modern    专家的评语写道民生公司北碚实验区卢作孚文集其中任一项都足以改变世界\n",
              "54795  modern                         这也正是他的独特价值所在\n",
              "54797  modern            卢作孚留给后人的不仅是他的事业更是他的精神人格力量\n",
              "54797  modern       如梁漱溟所说他胸怀高旷公而忘私为而不有庶几乎可与古之贤哲媲美\n",
              "...       ...                                  ...\n",
              "91152  modern                         程某继承母业继续贩卖假烟\n",
              "91152  modern                    记者徐其勇实习生郭永强通讯员严义华\n",
              "91153  modern               图为日多名留守儿童在江滩公园进行放纸飞机比赛\n",
              "91153  modern                            本报视界网邱孝威摄\n",
              "91154  modern           编者按美国总统布什将在本月日举行其第二个任期就职典礼\n",
              "\n",
              "[133465 rows x 2 columns]"
            ]
          },
          "metadata": {
            "tags": []
          }
        }
      ]
    },
    {
      "cell_type": "code",
      "metadata": {
        "colab": {
          "base_uri": "https://localhost:8080/"
        },
        "id": "0kNAkk_1Th6R",
        "outputId": "d09c5ee9-ea38-45f5-cb6f-86d4c75bd276"
      },
      "source": [
        "texts = data['sentence'].values\r\n",
        "labels = data['type'].values\r\n",
        "np.random.seed(10)\r\n",
        "mix_index = np.random.choice(len(texts),len(texts))\r\n",
        "shu_texts = np.array(texts)[mix_index].tolist()\r\n",
        "input_labels = np.array(labels)[mix_index].tolist()\r\n",
        "labels_one_hot = []\r\n",
        "for label in input_labels:\r\n",
        "    if label ==\"modern\":\r\n",
        "        labels_one_hot.append([1,0,0,0])\r\n",
        "        print('\\r'+label,end=\"\")\r\n",
        "    elif label ==\"ci\":\r\n",
        "        labels_one_hot.append([0,0,0,1])\r\n",
        "        print('\\r'+label,end=\"\")\r\n",
        "    elif label ==\"poet\":\r\n",
        "        labels_one_hot.append([0,0,1,0])\r\n",
        "        print('\\r'+label,end=\"\")\r\n",
        "    elif label ==\"classical\":\r\n",
        "        labels_one_hot.append([0,1,0,0])\r\n",
        "        print('\\r'+label,end=\"\")\r\n"
      ],
      "execution_count": null,
      "outputs": [
        {
          "output_type": "stream",
          "text": [
            "ci"
          ],
          "name": "stdout"
        }
      ]
    },
    {
      "cell_type": "code",
      "metadata": {
        "colab": {
          "base_uri": "https://localhost:8080/"
        },
        "id": "pcYMhiFDRAoI",
        "outputId": "20e43157-1cdb-4782-ae6d-a49aa262a482"
      },
      "source": [
        "!pip install pytorch-transformers==1.0"
      ],
      "execution_count": null,
      "outputs": [
        {
          "output_type": "stream",
          "text": [
            "Requirement already satisfied: pytorch-transformers==1.0 in /usr/local/lib/python3.6/dist-packages (1.0.0)\n",
            "Requirement already satisfied: boto3 in /usr/local/lib/python3.6/dist-packages (from pytorch-transformers==1.0) (1.16.43)\n",
            "Requirement already satisfied: requests in /usr/local/lib/python3.6/dist-packages (from pytorch-transformers==1.0) (2.23.0)\n",
            "Requirement already satisfied: numpy in /usr/local/lib/python3.6/dist-packages (from pytorch-transformers==1.0) (1.19.4)\n",
            "Requirement already satisfied: tqdm in /usr/local/lib/python3.6/dist-packages (from pytorch-transformers==1.0) (4.41.1)\n",
            "Requirement already satisfied: regex in /usr/local/lib/python3.6/dist-packages (from pytorch-transformers==1.0) (2019.12.20)\n",
            "Requirement already satisfied: torch>=0.4.1 in /usr/local/lib/python3.6/dist-packages (from pytorch-transformers==1.0) (1.7.0+cu101)\n",
            "Requirement already satisfied: sentencepiece in /usr/local/lib/python3.6/dist-packages (from pytorch-transformers==1.0) (0.1.94)\n",
            "Requirement already satisfied: botocore<1.20.0,>=1.19.43 in /usr/local/lib/python3.6/dist-packages (from boto3->pytorch-transformers==1.0) (1.19.43)\n",
            "Requirement already satisfied: jmespath<1.0.0,>=0.7.1 in /usr/local/lib/python3.6/dist-packages (from boto3->pytorch-transformers==1.0) (0.10.0)\n",
            "Requirement already satisfied: s3transfer<0.4.0,>=0.3.0 in /usr/local/lib/python3.6/dist-packages (from boto3->pytorch-transformers==1.0) (0.3.3)\n",
            "Requirement already satisfied: certifi>=2017.4.17 in /usr/local/lib/python3.6/dist-packages (from requests->pytorch-transformers==1.0) (2020.12.5)\n",
            "Requirement already satisfied: chardet<4,>=3.0.2 in /usr/local/lib/python3.6/dist-packages (from requests->pytorch-transformers==1.0) (3.0.4)\n",
            "Requirement already satisfied: urllib3!=1.25.0,!=1.25.1,<1.26,>=1.21.1 in /usr/local/lib/python3.6/dist-packages (from requests->pytorch-transformers==1.0) (1.24.3)\n",
            "Requirement already satisfied: idna<3,>=2.5 in /usr/local/lib/python3.6/dist-packages (from requests->pytorch-transformers==1.0) (2.10)\n",
            "Requirement already satisfied: typing-extensions in /usr/local/lib/python3.6/dist-packages (from torch>=0.4.1->pytorch-transformers==1.0) (3.7.4.3)\n",
            "Requirement already satisfied: future in /usr/local/lib/python3.6/dist-packages (from torch>=0.4.1->pytorch-transformers==1.0) (0.16.0)\n",
            "Requirement already satisfied: dataclasses in /usr/local/lib/python3.6/dist-packages (from torch>=0.4.1->pytorch-transformers==1.0) (0.8)\n",
            "Requirement already satisfied: python-dateutil<3.0.0,>=2.1 in /usr/local/lib/python3.6/dist-packages (from botocore<1.20.0,>=1.19.43->boto3->pytorch-transformers==1.0) (2.8.1)\n",
            "Requirement already satisfied: six>=1.5 in /usr/local/lib/python3.6/dist-packages (from python-dateutil<3.0.0,>=2.1->botocore<1.20.0,>=1.19.43->boto3->pytorch-transformers==1.0) (1.15.0)\n"
          ],
          "name": "stdout"
        }
      ]
    },
    {
      "cell_type": "code",
      "metadata": {
        "colab": {
          "base_uri": "https://localhost:8080/"
        },
        "id": "o-uw5bYCRZQ-",
        "outputId": "2e52ec7e-3f2b-4434-f2a7-e293eea8ff17"
      },
      "source": [
        "from pytorch_transformers import BertTokenizer\r\n",
        "from torch.utils.data import DataLoader, TensorDataset\r\n",
        "\r\n",
        "model_name = \"bert-base-chinese\"\r\n",
        "tokenizer = BertTokenizer.from_pretrained(model_name)\r\n",
        "# samples = ['[CLS]中国的首都是位于华北的北京[SEP]']\r\n",
        "# tokenized_text = [tokenizer.tokenize(i) for i in samples]\r\n",
        "# input_ids = [tokenizer.convert_tokens_to_ids(i) for i in tokenized_text]\r\n",
        "# input_ids = torch.LongTensor(input_ids)\r\n",
        "\r\n",
        "tokenized_text = [[\"[CLS]\"]+tokenizer.tokenize(i)+[\"[SEP]\"] for i in shu_texts]\r\n",
        "input_ids = [tokenizer.convert_tokens_to_ids(i) for i in tokenized_text]\r\n",
        "input_labels = labels_one_hot\r\n",
        "\r\n",
        "# 将样本数据填充至长度为40\r\n",
        "for j in range(len(input_ids)):\r\n",
        "    i = input_ids[j]\r\n",
        "    if len(i) != 43:\r\n",
        "        input_ids[j].extend([0]*(43-len(i)))\r\n",
        "print(input_ids[:10])\r\n",
        "train_ids = input_ids[:len(input_ids)*4//5]\r\n",
        "train_labels = input_labels[:len(input_ids)*4//5]\r\n",
        "\r\n",
        "eval_ids = input_ids[len(input_ids)*4//5:]\r\n",
        "eval_labels = input_labels[len(input_ids)*4//5:]\r\n",
        "\r\n",
        "train_set = TensorDataset(torch.LongTensor(train_ids),torch.FloatTensor(train_labels))\r\n",
        "train_loader = DataLoader(dataset=train_set,batch_size=256,shuffle = False)\r\n",
        "eval_set = TensorDataset(torch.LongTensor(eval_ids),torch.FloatTensor(eval_labels))\r\n",
        "eval_loader = DataLoader(dataset=eval_set,batch_size=256,shuffle = True)"
      ],
      "execution_count": null,
      "outputs": [
        {
          "output_type": "stream",
          "text": [
            "[[101, 7371, 3635, 1185, 1063, 2358, 4639, 1921, 869, 3174, 804, 1188, 1353, 3176, 1395, 869, 4639, 1370, 672, 3622, 7553, 3953, 3174, 1502, 1921, 2169, 5420, 739, 2348, 6859, 6815, 3153, 1266, 6957, 2145, 2822, 102, 0, 0, 0, 0, 0, 0], [101, 3126, 5473, 3148, 1752, 723, 1410, 3301, 3275, 5991, 1072, 3697, 5443, 1316, 5648, 1071, 5446, 5632, 1072, 1863, 6520, 810, 680, 5413, 1174, 810, 6883, 6122, 102, 0, 0, 0, 0, 0, 0, 0, 0, 0, 0, 0, 0, 0, 0], [101, 2022, 1259, 100, 5659, 100, 4284, 5396, 1578, 801, 1763, 2553, 2420, 3267, 679, 1105, 2553, 2832, 5166, 2111, 740, 1940, 6630, 4685, 6842, 102, 0, 0, 0, 0, 0, 0, 0, 0, 0, 0, 0, 0, 0, 0, 0, 0, 0], [101, 5727, 4576, 3172, 4404, 2253, 5771, 5683, 2373, 5385, 6171, 102, 0, 0, 0, 0, 0, 0, 0, 0, 0, 0, 0, 0, 0, 0, 0, 0, 0, 0, 0, 0, 0, 0, 0, 0, 0, 0, 0, 0, 0, 0, 0], [101, 2383, 810, 1218, 708, 7558, 3634, 1287, 1083, 2163, 1454, 3342, 5636, 5791, 2769, 102, 0, 0, 0, 0, 0, 0, 0, 0, 0, 0, 0, 0, 0, 0, 0, 0, 0, 0, 0, 0, 0, 0, 0, 0, 0, 0, 0], [101, 843, 4990, 7677, 7600, 1913, 2850, 2110, 2688, 1114, 2663, 5405, 4243, 2678, 5818, 102, 0, 0, 0, 0, 0, 0, 0, 0, 0, 0, 0, 0, 0, 0, 0, 0, 0, 0, 0, 0, 0, 0, 0, 0, 0, 0, 0], [101, 100, 100, 3314, 3342, 5144, 1155, 810, 1351, 2400, 1080, 2200, 678, 2357, 4639, 6757, 1799, 6964, 2200, 3222, 1745, 773, 4639, 7029, 4158, 6757, 1799, 102, 0, 0, 0, 0, 0, 0, 0, 0, 0, 0, 0, 0, 0, 0, 0], [101, 853, 3222, 7771, 3414, 2191, 3414, 2846, 4639, 7445, 3725, 2401, 680, 6396, 3210, 3414, 2846, 2348, 5308, 4008, 6640, 750, 6439, 5443, 4639, 6207, 3725, 102, 0, 0, 0, 0, 0, 0, 0, 0, 0, 0, 0, 0, 0, 0, 0], [101, 4693, 1410, 7745, 2420, 7724, 2601, 3222, 1964, 3635, 5683, 102, 0, 0, 0, 0, 0, 0, 0, 0, 0, 0, 0, 0, 0, 0, 0, 0, 0, 0, 0, 0, 0, 0, 0, 0, 0, 0, 0, 0, 0, 0, 0], [101, 2191, 2208, 1094, 3342, 6433, 5633, 713, 2596, 4639, 2811, 1921, 1470, 2191, 6599, 3976, 4639, 5633, 2770, 2972, 1170, 6964, 1073, 3301, 7029, 6207, 2693, 722, 102, 0, 0, 0, 0, 0, 0, 0, 0, 0, 0, 0, 0, 0, 0]]\n"
          ],
          "name": "stdout"
        }
      ]
    },
    {
      "cell_type": "markdown",
      "metadata": {
        "id": "SyG6ta6zdhpS"
      },
      "source": [
        "## 模型搭建！"
      ]
    },
    {
      "cell_type": "code",
      "metadata": {
        "id": "f6EgxG0SdhAB"
      },
      "source": [
        "device = torch.device(\"cuda\" if torch.cuda.is_available() else \"cpu\")\r\n",
        "\r\n",
        "import torch.nn as nn\r\n",
        "import torch.nn.functional as F\r\n",
        "from pytorch_transformers import BertModel\r\n",
        "\r\n",
        "class fn_cls(nn.Module):\r\n",
        "    def __init__(self):\r\n",
        "        super(fn_cls,self).__init__()\r\n",
        "        self.model = BertModel.from_pretrained(model_name,cache_dir=\"./\")\r\n",
        "        self.model.to(device)\r\n",
        "        self.dropout = nn.Dropout(0.7)\r\n",
        "        self.linear = nn.Linear(768,4)\r\n",
        "\r\n",
        "    def forward(self,x,attention_mask=None):\r\n",
        "        outputs = self.model(x,attention_mask=attention_mask)\r\n",
        "        x = outputs[1].view(-1,768)\r\n",
        "        x = self.dropout(x)\r\n",
        "        s = self.linear(x)\r\n",
        "        del x\r\n",
        "        return s"
      ],
      "execution_count": null,
      "outputs": []
    },
    {
      "cell_type": "code",
      "metadata": {
        "id": "XLMyMIFmgF10"
      },
      "source": [
        "from torch import optim\r\n",
        "\r\n",
        "cls = fn_cls()\r\n",
        "cls.to(device)\r\n",
        "cls.train()\r\n",
        "\r\n",
        "criterion = nn.BCELoss()\r\n",
        "sigmoid = nn.Sigmoid()\r\n",
        "optimizer = optim.Adam(cls.parameters(),lr = 5e-5)\r\n",
        "# optimizer = torch.optim.Adam(cls.parameters(), lr=1e-5, betas=(0.9, 0.999), eps=1e-08, weight_decay=1e-6, amsgrad=False)\r\n",
        "\r\n",
        "def predict(logits):\r\n",
        "    res = torch.argmax(logits,1)\r\n",
        "    return res"
      ],
      "execution_count": null,
      "outputs": []
    },
    {
      "cell_type": "markdown",
      "metadata": {
        "id": "bw3NzreC9-9u"
      },
      "source": [
        "清理内存专用\r\n",
        "\r\n",
        "删除不必要的变量，随后调用empty_cache清除不被引用的内存"
      ]
    },
    {
      "cell_type": "code",
      "metadata": {
        "id": "WPmpSV57fKxj"
      },
      "source": [
        "# del cls\r\n",
        "# del output,pred,loss,data,target\r\n",
        "# torch.cuda.empty_cache()"
      ],
      "execution_count": null,
      "outputs": []
    },
    {
      "cell_type": "code",
      "metadata": {
        "colab": {
          "background_save": true,
          "base_uri": "https://localhost:8080/"
        },
        "id": "Zc8n1xZNg8ma",
        "outputId": "c7477285-6f2e-4638-f8b6-583de31c0818"
      },
      "source": [
        "from torch.autograd import Variable\r\n",
        "import time\r\n",
        "pre = time.time()\r\n",
        "\r\n",
        "history_epoches = []\r\n",
        "history_loss = []\r\n",
        "history_accu = []\r\n",
        "epoch = 10\r\n",
        "\r\n",
        "for i in range(epoch):\r\n",
        "    total_loss = 0\r\n",
        "    total_accurate_item = 0\r\n",
        "    total_trained_item = 0\r\n",
        "    for batch_idx, (data,target) in enumerate(train_loader):\r\n",
        "        trained_item = len(data)\r\n",
        "        total_trained_item += trained_item\r\n",
        "        accurate_item = 0\r\n",
        "        data, target = Variable(data).to(device), Variable(target).to(device)\r\n",
        "        mask = []\r\n",
        "        for sample in data:\r\n",
        "            mask.append([1 if i!=0 else 0 for i in sample])\r\n",
        "        mask = torch.Tensor(mask).to(device)\r\n",
        "        output = cls(data, attention_mask=None)\r\n",
        "        pred = predict(output)\r\n",
        "        loss = criterion(sigmoid(output).view(-1,4),target)\r\n",
        "        accurate_item = (predict(output) == predict(target)).sum().item()\r\n",
        "        total_loss += loss\r\n",
        "        total_accurate_item += accurate_item\r\n",
        "        loss.backward()\r\n",
        "\r\n",
        "        optimizer.step()\r\n",
        "        optimizer.zero_grad()\r\n",
        "\r\n",
        "        print('\\rTime Spent:{:.2f}s___Epoch{}/{} Batch{}/{}.Loss:{} Accuracy:{}'.\r\n",
        "              format(time.time()-pre,i+1,epoch,batch_idx+1,len(train_loader),loss,accurate_item/trained_item),end=\"\")\r\n",
        "        total_loss += loss.item()\r\n",
        "        del output,pred,loss,data,target\r\n",
        "        torch.cuda.empty_cache()\r\n",
        "    print(\"\\n\")\r\n",
        "    epoch_loss = total_loss/total_trained_item\r\n",
        "    epoch_accu = total_accurate_item/total_trained_item\r\n",
        "    history_epoches.append(i+1)\r\n",
        "    history_loss.append(epoch_loss)\r\n",
        "    history_accu.append(epoch_accu)\r\n",
        "\r\n",
        "print(\"训练时间\",time.time()-pre)"
      ],
      "execution_count": null,
      "outputs": [
        {
          "output_type": "stream",
          "text": [
            "Time Spent:2854.04s___Epoch1/5 Batch1261/1261.Loss:0.11087986081838608 Accuracy:0.9054054054054054\n",
            "\n",
            "Time Spent:5701.49s___Epoch2/5 Batch1261/1261.Loss:0.08844756335020065 Accuracy:0.9256756756756757\n",
            "\n",
            "Time Spent:8546.47s___Epoch3/5 Batch1261/1261.Loss:0.04042982682585716 Accuracy:0.9662162162162162\n",
            "\n",
            "Time Spent:11385.93s___Epoch4/5 Batch1261/1261.Loss:0.06600235402584076 Accuracy:0.9459459459459459\n",
            "\n",
            "Time Spent:14225.23s___Epoch5/5 Batch1261/1261.Loss:0.03374437987804413 Accuracy:0.9797297297297297\n",
            "\n",
            "训练时间 14225.512427091599\n"
          ],
          "name": "stdout"
        }
      ]
    },
    {
      "cell_type": "code",
      "metadata": {
        "colab": {
          "background_save": true
        },
        "id": "jGDqARBUlNFf",
        "outputId": "e29192e1-24ea-4de6-d06b-f0de7cdd5b37"
      },
      "source": [
        "correct = 0\r\n",
        "total = 0\r\n",
        "\r\n",
        "#test_loss = []\r\n",
        "test_accu = []\r\n",
        "\r\n",
        "with torch.no_grad():\r\n",
        "    for batch_idx, (data, target) in enumerate(eval_loader):\r\n",
        "        data = data.to(device)\r\n",
        "        target = target.long().to(device)\r\n",
        "\r\n",
        "        mask = []\r\n",
        "        for sample in data:\r\n",
        "            mask.append([1 if i != 0 else 0 for i in sample])\r\n",
        "        mask = torch.Tensor(mask).to(device)\r\n",
        "\r\n",
        "        output = cls(data,attention_mask=None)\r\n",
        "        pred = predict(output)\r\n",
        "        #loss = criterion(sigmoid(output).view(-1,4),target)\r\n",
        "        target_p = predict(target)\r\n",
        "        # print(pred)\r\n",
        "        # print(target_p)\r\n",
        "        correct += (pred == target_p).sum().item()\r\n",
        "        total += len(data)\r\n",
        "\r\n",
        "        #test_loss.append(loss)\r\n",
        "        test_accu.append(correct/total)\r\n",
        "    print(\"Accuracy:{}\".format(correct/total))"
      ],
      "execution_count": null,
      "outputs": [
        {
          "output_type": "stream",
          "text": [
            "Accuracy:0.9533200292524512\n"
          ],
          "name": "stdout"
        }
      ]
    },
    {
      "cell_type": "code",
      "metadata": {
        "colab": {
          "background_save": true
        },
        "id": "V73TatGHfHPO",
        "outputId": "fa8b14bb-878f-4d3d-a3bf-68b5d85a0772"
      },
      "source": [
        "%matplotlib inline\n",
        "\n",
        "def plot_history(epoch,loss,accuracy,title):\n",
        "    x = epoch\n",
        "    y1 = loss\n",
        "    y2 = accuracy\n",
        "    fig,ax1 = plt.subplots()\n",
        "    ax1.plot(x,y1,'r',label=title+'_loss')\n",
        "    ax1.set_ylabel('Loss:Epoch')\n",
        "    ax2 = ax1.twinx()\n",
        "    ax2.plot(x,y2,'b',label=title+'_accu')\n",
        "    ax2.set_ylabel('Accuracy:Epoch')\n",
        "    ax2.set_xlabel('Epoches')\n",
        "    fig.legend(loc=\"upper right\", bbox_to_anchor=(1, 1))\n",
        "    plt.show()\n",
        "plot_history(history_epoches,history_loss,history_accu,title='Train')\n",
        "# plot_history(history_epoches,test_loss,test_accu,title='Test')"
      ],
      "execution_count": null,
      "outputs": [
        {
          "output_type": "display_data",
          "data": {
            "image/png": "[encoded data removed]",
            "text/plain": [
              "<Figure size 432x288 with 2 Axes>"
            ]
          },
          "metadata": {
            "tags": []
          }
        }
      ]
    },
    {
      "cell_type": "code",
      "metadata": {
        "colab": {
          "background_save": true
        },
        "id": "j5Ybsiu2QsRB"
      },
      "source": [
        "# def classify(text):\r\n",
        "#   #a = get_indices([text])\r\n",
        "#   xy = model.predict(torch.tensor(text).to(device))\r\n",
        "#   result = xy.cpu().numpy()[0]\r\n",
        "#   #modern ci poet classical\r\n",
        "#   typedict={0:\"现代文\",1:\"词\",2:\"诗\",3:\"文言文\"}\r\n",
        "#   return typedict[result]\r\n",
        "\r\n",
        "# print(classify(\"武汉大学位于武汉市武昌区珞珈山街道，是一所高水平一流大学\"))\r\n",
        "# print(classify(\"枯藤老树昏鸦，小桥流水人家，古道西风瘦马，夕阳西下，断肠人在天涯\"))\r\n",
        "# print(classify(\"晋太元中，武陵人捕鱼为业，沿溪行，忘路之远近，忽逢桃花林\"))"
      ],
      "execution_count": null,
      "outputs": []
    }
  ]
}